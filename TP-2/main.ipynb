{
 "cells": [
  {
   "cell_type": "markdown",
   "id": "b56007a0-c867-403b-9024-cdd05c56c8f3",
   "metadata": {},
   "source": [
    "<div id=\"top\" >\n",
    "    <h3>Outline</h3>\n",
    "</div>\n",
    "\n",
    "- [Necessary Packages](#necessary_packages)\n",
    "- [Global Parameters](#global_parameters)\n",
    "- [Download the dataset](#download_the_dataset)\n",
    "- [Load the dataset](#load_the_dataset)\n",
    "- [Getting familiar with the data](#getting_familiar_with_the_data)\n",
    "- [Text Cleaning](#text_cleaning)\n",
    "  - [Handle repetitive characters](#handle_repetitive_characters)\n",
    "  - [Managing homoglyphs](#managing_homoglyphs)\n",
    "  - [Handle special entries](#handle_spetial_entries)\n",
    "  - [Capitalization](#captilization)\n",
    "  - [Removing punctuations](#remove_punctuation)\n",
    "  - [Removing stop words](#removing_stop_words)\n",
    "  - [Stemming](#stemming)\n",
    "  - [Apply the transformations](#apply_the_transformations)\n",
    "- [Data splitting](#data_splitting)\n",
    "- [Vectorization Methods](#vectorization_methods)\n",
    "- [Training](#training)\n",
    "- [Word Embeddings](#word_embeddings)\n",
    "  - [Word2Vec](#word2vec)\n",
    "  - [Glove](#glove)\n",
    "  - [Fast Text](#fast_text)\n",
    "- [Training on word embeddings](#training_on_embeddings)"
   ]
  },
  {
   "cell_type": "markdown",
   "id": "e66a8be9-918b-490b-851d-b942adc2f319",
   "metadata": {},
   "source": [
    "<div id=\"necessary_packages\" >\n",
    "    <h3>Necessary Packages</h3>\n",
    "</div>\n",
    "\n",
    "[Back to top](#top)"
   ]
  },
  {
   "cell_type": "code",
   "execution_count": 3,
   "id": "83d34b42-0f21-48f3-8e8c-49d298251d20",
   "metadata": {},
   "outputs": [],
   "source": [
    "import pandas as pd\n",
    "import numpy as np\n",
    "import seaborn as sns\n",
    "import matplotlib.pyplot as plt\n",
    "import os\n",
    "import requests\n",
    "import re\n",
    "import email_normalize\n",
    "import string\n",
    "import time\n",
    "import warnings\n",
    "from tqdm.notebook import tqdm\n",
    "from textblob import Word\n",
    "from unidecode import unidecode\n",
    "from bs4 import BeautifulSoup\n",
    "from nltk import word_tokenize\n",
    "from nltk.corpus import stopwords\n",
    "from nltk.stem import SnowballStemmer\n",
    "from nltk import word_tokenize\n",
    "from gensim.models import Word2Vec,FastText\n",
    "from sklearn.preprocessing import StandardScaler,FunctionTransformer\n",
    "from sklearn.feature_extraction.text import CountVectorizer,TfidfVectorizer\n",
    "from sklearn.model_selection import train_test_split,cross_validate\n",
    "from sklearn.neural_network import MLPClassifier\n",
    "from sklearn.linear_model import LogisticRegression\n",
    "from sklearn.pipeline import Pipeline\n",
    "from sklearn.metrics import accuracy_score,f1_score,recall_score,precision_score,make_scorer\n",
    "from sklearn.svm import SVC\n",
    "from spacy.tokenizer import Tokenizer\n",
    "from spacy.lang.en import English\n",
    "from word_piece_tokenizer import WordPieceTokenizer\n",
    "from imblearn.over_sampling import SMOTE\n",
    "from sklearn.ensemble import RandomForestClassifier"
   ]
  },
  {
   "cell_type": "code",
   "execution_count": 4,
   "id": "e2b279b9-a913-4861-a4d5-043cd25c4598",
   "metadata": {},
   "outputs": [],
   "source": [
    "tqdm.pandas()\n",
    "warnings.filterwarnings(\"ignore\")"
   ]
  },
  {
   "cell_type": "markdown",
   "id": "58803d12-8f5d-424f-8ccc-464d17ef65fb",
   "metadata": {},
   "source": [
    "<div id=\"global_parameters\" >\n",
    "    <h3>Global Parameters</h3>\n",
    "</div>\n",
    "\n",
    "[Back to top](#top)"
   ]
  },
  {
   "cell_type": "code",
   "execution_count": 5,
   "id": "fc2e8961-d166-47e6-b98a-02d545499319",
   "metadata": {},
   "outputs": [],
   "source": [
    "DOWNLOAD_DATASET = False\n",
    "DATASET_URL = \"https://raw.githubusercontent.com/GU4243-ADS/spring2018-project1-ginnyqg/master/data/spooky.csv\"\n",
    "DATA_DIR = os.path.join(\".\",\"data\")\n",
    "DATASET_PATH = os.path.join(DATA_DIR, \"spooky.csv\")"
   ]
  },
  {
   "cell_type": "markdown",
   "id": "ef570eaa-cff4-414d-b76c-71cf73492b0b",
   "metadata": {},
   "source": [
    "<div id=\"download_the_dataset\" >\n",
    "    <h3>Download the dataset</h3>\n",
    "</div>\n",
    "\n",
    "[Back to top](#top)"
   ]
  },
  {
   "cell_type": "code",
   "execution_count": 6,
   "id": "799a7596-e92c-4b16-b6b6-c22bcaaf5496",
   "metadata": {},
   "outputs": [
    {
     "name": "stdout",
     "output_type": "stream",
     "text": [
      "Dataset download is deactivated\n"
     ]
    }
   ],
   "source": [
    "if DOWNLOAD_DATASET:\n",
    "    response = requests.get(DATASET_URL)\n",
    "    content = response.text\n",
    "    if not os.path.isdir(DATA_DIR):\n",
    "        os.mkdir(DATA_DIR)\n",
    "    with open(DATASET_PATH, \"w\") as f:\n",
    "        f.write(content)\n",
    "else:\n",
    "    print(\"Dataset download is deactivated\")"
   ]
  },
  {
   "cell_type": "markdown",
   "id": "e2dbb130-5fc8-44c2-a014-c180f8388cf5",
   "metadata": {},
   "source": [
    "<div id=\"load_the_dataset\" >\n",
    "    <h3>Load the dataset</h3>\n",
    "</div>\n",
    "\n",
    "[Back to top](#top)"
   ]
  },
  {
   "cell_type": "code",
   "execution_count": 7,
   "id": "07a93826-88fb-4435-ab06-f3460e788ccb",
   "metadata": {},
   "outputs": [],
   "source": [
    "df = pd.read_csv(DATASET_PATH)"
   ]
  },
  {
   "cell_type": "markdown",
   "id": "69add534-66ff-4756-bc85-1fe09cc93e40",
   "metadata": {},
   "source": [
    "<div id=\"getting_familiar_with_the_data\" >\n",
    "    <h3>Getting familiar with the data</h3>\n",
    "</div>\n",
    "\n",
    "[Back to top](#top)"
   ]
  },
  {
   "cell_type": "markdown",
   "id": "85330eaf-6b4a-41f4-8cb3-81b8047756bd",
   "metadata": {},
   "source": [
    "- show the columns of the dataframe"
   ]
  },
  {
   "cell_type": "code",
   "execution_count": 8,
   "id": "dffa6357-f028-4228-86e1-5a927844b355",
   "metadata": {},
   "outputs": [
    {
     "data": {
      "text/plain": [
       "Index(['id', 'text', 'author'], dtype='object')"
      ]
     },
     "execution_count": 8,
     "metadata": {},
     "output_type": "execute_result"
    }
   ],
   "source": [
    "df.columns"
   ]
  },
  {
   "cell_type": "markdown",
   "id": "a3f01ca7-b4e9-48da-9f8c-ae5876c03651",
   "metadata": {},
   "source": [
    "- Check the dimensions of the dataframe"
   ]
  },
  {
   "cell_type": "code",
   "execution_count": 9,
   "id": "f0b18c32-70e6-4db7-a3a1-c971f22ab5aa",
   "metadata": {},
   "outputs": [
    {
     "data": {
      "text/plain": [
       "(19579, 3)"
      ]
     },
     "execution_count": 9,
     "metadata": {},
     "output_type": "execute_result"
    }
   ],
   "source": [
    "df.shape"
   ]
  },
  {
   "cell_type": "markdown",
   "id": "fe51ed72-30d8-44f2-8b5b-3b3842d99176",
   "metadata": {},
   "source": [
    "- display the head and the tail of the dataframe"
   ]
  },
  {
   "cell_type": "code",
   "execution_count": 10,
   "id": "8284b0f9-3732-4ce2-915a-25db05fdde2e",
   "metadata": {},
   "outputs": [
    {
     "data": {
      "text/html": [
       "<div>\n",
       "<style scoped>\n",
       "    .dataframe tbody tr th:only-of-type {\n",
       "        vertical-align: middle;\n",
       "    }\n",
       "\n",
       "    .dataframe tbody tr th {\n",
       "        vertical-align: top;\n",
       "    }\n",
       "\n",
       "    .dataframe thead th {\n",
       "        text-align: right;\n",
       "    }\n",
       "</style>\n",
       "<table border=\"1\" class=\"dataframe\">\n",
       "  <thead>\n",
       "    <tr style=\"text-align: right;\">\n",
       "      <th></th>\n",
       "      <th>id</th>\n",
       "      <th>text</th>\n",
       "      <th>author</th>\n",
       "    </tr>\n",
       "  </thead>\n",
       "  <tbody>\n",
       "    <tr>\n",
       "      <th>0</th>\n",
       "      <td>id26305</td>\n",
       "      <td>This process, however, afforded me no means of...</td>\n",
       "      <td>EAP</td>\n",
       "    </tr>\n",
       "    <tr>\n",
       "      <th>1</th>\n",
       "      <td>id17569</td>\n",
       "      <td>It never once occurred to me that the fumbling...</td>\n",
       "      <td>HPL</td>\n",
       "    </tr>\n",
       "    <tr>\n",
       "      <th>2</th>\n",
       "      <td>id11008</td>\n",
       "      <td>In his left hand was a gold snuff box, from wh...</td>\n",
       "      <td>EAP</td>\n",
       "    </tr>\n",
       "    <tr>\n",
       "      <th>3</th>\n",
       "      <td>id27763</td>\n",
       "      <td>How lovely is spring As we looked from Windsor...</td>\n",
       "      <td>MWS</td>\n",
       "    </tr>\n",
       "    <tr>\n",
       "      <th>4</th>\n",
       "      <td>id12958</td>\n",
       "      <td>Finding nothing else, not even gold, the Super...</td>\n",
       "      <td>HPL</td>\n",
       "    </tr>\n",
       "  </tbody>\n",
       "</table>\n",
       "</div>"
      ],
      "text/plain": [
       "        id                                               text author\n",
       "0  id26305  This process, however, afforded me no means of...    EAP\n",
       "1  id17569  It never once occurred to me that the fumbling...    HPL\n",
       "2  id11008  In his left hand was a gold snuff box, from wh...    EAP\n",
       "3  id27763  How lovely is spring As we looked from Windsor...    MWS\n",
       "4  id12958  Finding nothing else, not even gold, the Super...    HPL"
      ]
     },
     "execution_count": 10,
     "metadata": {},
     "output_type": "execute_result"
    }
   ],
   "source": [
    "df.head()"
   ]
  },
  {
   "cell_type": "code",
   "execution_count": 11,
   "id": "c79d094d-52fd-4869-83b5-cacfe64ca053",
   "metadata": {},
   "outputs": [
    {
     "data": {
      "text/html": [
       "<div>\n",
       "<style scoped>\n",
       "    .dataframe tbody tr th:only-of-type {\n",
       "        vertical-align: middle;\n",
       "    }\n",
       "\n",
       "    .dataframe tbody tr th {\n",
       "        vertical-align: top;\n",
       "    }\n",
       "\n",
       "    .dataframe thead th {\n",
       "        text-align: right;\n",
       "    }\n",
       "</style>\n",
       "<table border=\"1\" class=\"dataframe\">\n",
       "  <thead>\n",
       "    <tr style=\"text-align: right;\">\n",
       "      <th></th>\n",
       "      <th>id</th>\n",
       "      <th>text</th>\n",
       "      <th>author</th>\n",
       "    </tr>\n",
       "  </thead>\n",
       "  <tbody>\n",
       "    <tr>\n",
       "      <th>19574</th>\n",
       "      <td>id17718</td>\n",
       "      <td>I could have fancied, while I looked at it, th...</td>\n",
       "      <td>EAP</td>\n",
       "    </tr>\n",
       "    <tr>\n",
       "      <th>19575</th>\n",
       "      <td>id08973</td>\n",
       "      <td>The lids clenched themselves together as if in...</td>\n",
       "      <td>EAP</td>\n",
       "    </tr>\n",
       "    <tr>\n",
       "      <th>19576</th>\n",
       "      <td>id05267</td>\n",
       "      <td>Mais il faut agir that is to say, a Frenchman ...</td>\n",
       "      <td>EAP</td>\n",
       "    </tr>\n",
       "    <tr>\n",
       "      <th>19577</th>\n",
       "      <td>id17513</td>\n",
       "      <td>For an item of news like this, it strikes us i...</td>\n",
       "      <td>EAP</td>\n",
       "    </tr>\n",
       "    <tr>\n",
       "      <th>19578</th>\n",
       "      <td>id00393</td>\n",
       "      <td>He laid a gnarled claw on my shoulder, and it ...</td>\n",
       "      <td>HPL</td>\n",
       "    </tr>\n",
       "  </tbody>\n",
       "</table>\n",
       "</div>"
      ],
      "text/plain": [
       "            id                                               text author\n",
       "19574  id17718  I could have fancied, while I looked at it, th...    EAP\n",
       "19575  id08973  The lids clenched themselves together as if in...    EAP\n",
       "19576  id05267  Mais il faut agir that is to say, a Frenchman ...    EAP\n",
       "19577  id17513  For an item of news like this, it strikes us i...    EAP\n",
       "19578  id00393  He laid a gnarled claw on my shoulder, and it ...    HPL"
      ]
     },
     "execution_count": 11,
     "metadata": {},
     "output_type": "execute_result"
    }
   ],
   "source": [
    "df.tail()"
   ]
  },
  {
   "cell_type": "markdown",
   "id": "1277e4f3-b4ff-4710-b266-c2f01b3dc949",
   "metadata": {},
   "source": [
    "- Check for missing values"
   ]
  },
  {
   "cell_type": "code",
   "execution_count": 12,
   "id": "72229e87-f102-4ab7-b354-ba9cccb80019",
   "metadata": {},
   "outputs": [
    {
     "data": {
      "text/plain": [
       "id        0\n",
       "text      0\n",
       "author    0\n",
       "dtype: int64"
      ]
     },
     "execution_count": 12,
     "metadata": {},
     "output_type": "execute_result"
    }
   ],
   "source": [
    "df.isna().sum()"
   ]
  },
  {
   "cell_type": "markdown",
   "id": "395c0116-602e-4bd8-a1dc-1cb29c8e47b2",
   "metadata": {},
   "source": [
    "- Checking for duplicates"
   ]
  },
  {
   "cell_type": "code",
   "execution_count": 13,
   "id": "bc22fc20-4fc8-4a75-96f6-d759b8bf7559",
   "metadata": {},
   "outputs": [
    {
     "data": {
      "text/plain": [
       "0"
      ]
     },
     "execution_count": 13,
     "metadata": {},
     "output_type": "execute_result"
    }
   ],
   "source": [
    "df.duplicated().sum()"
   ]
  },
  {
   "cell_type": "markdown",
   "id": "b557a158-2d81-4167-a6b9-bd940320da90",
   "metadata": {},
   "source": [
    "<div id=\"text_cleaning\" >\n",
    "    <h3>Text Cleaning</h3>\n",
    "</div>\n",
    "\n",
    "[Back to top](#top)"
   ]
  },
  {
   "cell_type": "markdown",
   "id": "f7c1e802-764b-4d15-8457-1dc13c7ca54d",
   "metadata": {},
   "source": [
    "<div id=\"handle_repetitive_characters\" >\n",
    "    <h4>Handle repetitive characters</h4>\n",
    "</div>\n",
    "\n",
    "[Back to top](#top)"
   ]
  },
  {
   "cell_type": "code",
   "execution_count": 14,
   "id": "4bee51bf-3703-46cf-b0e4-ffb2cad19275",
   "metadata": {},
   "outputs": [],
   "source": [
    "rx = re.compile(r'([^\\W\\d_])\\1{2,}')"
   ]
  },
  {
   "cell_type": "code",
   "execution_count": 15,
   "id": "3f40c1f9-f5f5-4b39-96a8-e2daa9e0fd02",
   "metadata": {},
   "outputs": [],
   "source": [
    "def remove_reptitive_characters(text):\n",
    "     return re.sub(r'[^\\W\\d_]+', lambda x: Word(rx.sub(r'\\1\\1', x.group())).correct() if rx.search(x.group()) else x.group(), text)"
   ]
  },
  {
   "cell_type": "markdown",
   "id": "1d32f489-f982-4018-90f0-dc44ae16bdad",
   "metadata": {},
   "source": [
    "<div id=\"managing_homoglyphs\" >\n",
    "    <h4>Managing homoglyphs</h4>\n",
    "</div>\n",
    "\n",
    "[Back to top](#top)"
   ]
  },
  {
   "cell_type": "code",
   "execution_count": 16,
   "id": "cfbacc5a-85b6-479a-9a24-87e8b53ab346",
   "metadata": {},
   "outputs": [],
   "source": [
    "def normalaize_unicode_chars(text):\n",
    "  text = unidecode(text)\n",
    "  return text"
   ]
  },
  {
   "cell_type": "markdown",
   "id": "d463e6b6-1cda-4338-92a0-9685131cea78",
   "metadata": {},
   "source": [
    "<div id=\"handle_spetial_entries\" >\n",
    "    <h4>Handle special entries</h4>\n",
    "</div>\n",
    "\n",
    "[Back to top](#top)"
   ]
  },
  {
   "cell_type": "code",
   "execution_count": 17,
   "id": "01c34390-3485-47b4-8000-755a413dde25",
   "metadata": {},
   "outputs": [],
   "source": [
    "def remove_html_tags(text):\n",
    "    return re.sub(\" +\",\" \",BeautifulSoup(text, 'html.parser').get_text().replace(\"\\n\",\" \")).strip()"
   ]
  },
  {
   "cell_type": "code",
   "execution_count": 18,
   "id": "31b4b762-4e49-474c-a3a1-9485166798d4",
   "metadata": {},
   "outputs": [],
   "source": [
    "url_regex = \"((http|https)\\:\\/\\/)?[a-zA-Z0-9\\.\\/\\?\\:@\\-_=#]+\\.([a-zA-Z]){2,6}([a-zA-Z0-9\\.\\&\\/\\?\\:@\\-_=#])*\"\n",
    "email_regex = r'\\b[A-Za-z0-9._%+-]+@[A-Za-z0-9.-]+\\.[A-Z|a-z]{2,}\\b'"
   ]
  },
  {
   "cell_type": "code",
   "execution_count": 19,
   "id": "8a768524-1769-44cf-83bc-ed11b146e5ef",
   "metadata": {},
   "outputs": [],
   "source": [
    "def handle_special_entries(text):\n",
    "  text = re.sub(url_regex, \"[URL]\", text)\n",
    "  text = re.sub(email_regex, \"[EMAIL]\", text)\n",
    "  text = remove_html_tags(text)\n",
    "  return text"
   ]
  },
  {
   "cell_type": "markdown",
   "id": "5c2054e5-946a-40cb-b1e1-f5f5a556035c",
   "metadata": {},
   "source": [
    "<div id=\"captilization\" >\n",
    "    <h4>Captilization</h4>\n",
    "</div>\n",
    "\n",
    "[Back to top](#top)"
   ]
  },
  {
   "cell_type": "code",
   "execution_count": 20,
   "id": "ab966dcb-fcfd-4b54-adaa-f477deded855",
   "metadata": {},
   "outputs": [],
   "source": [
    "def lower(text):\n",
    "    return text.lower()"
   ]
  },
  {
   "cell_type": "markdown",
   "id": "be7fdbae-e756-47e3-bee4-92878eec11d0",
   "metadata": {},
   "source": [
    "<div id=\"remove_punctuation\" >\n",
    "    <h4>Remove punctuations</h4>\n",
    "</div>\n",
    "\n",
    "[Back to top](#top)"
   ]
  },
  {
   "cell_type": "code",
   "execution_count": 21,
   "id": "73a32584-4aa5-46f1-9a70-ac17c587efbc",
   "metadata": {},
   "outputs": [],
   "source": [
    "spetial_chars = string.punctuation\n",
    "escaped_chars = [re.escape(c) for c in spetial_chars]\n",
    "spetial_chars_regex = re.compile(f\"({'|'.join(escaped_chars)})\")"
   ]
  },
  {
   "cell_type": "code",
   "execution_count": 22,
   "id": "8923f6ff-9d52-456f-913d-0c42be15e744",
   "metadata": {},
   "outputs": [],
   "source": [
    "def remove_punctuation(text):\n",
    "    return re.sub(spetial_chars_regex,\" \",text)"
   ]
  },
  {
   "cell_type": "markdown",
   "id": "4c9181d8-664d-4010-9bea-1d76744a8e15",
   "metadata": {},
   "source": [
    "<div id=\"removing_stop_words\" >\n",
    "    <h4>Removing stop words</h4>\n",
    "</div>\n",
    "\n",
    "[Back to top](#top)"
   ]
  },
  {
   "cell_type": "code",
   "execution_count": 23,
   "id": "d08d5bba-b9d3-458c-b257-1cca60c45e10",
   "metadata": {},
   "outputs": [],
   "source": [
    "eng_stopwords = set(stopwords.words(\"english\"))"
   ]
  },
  {
   "cell_type": "code",
   "execution_count": 24,
   "id": "955cf41b-21f4-4ba8-81ca-9f3475b0d936",
   "metadata": {},
   "outputs": [],
   "source": [
    "def remove_stopwords(text):\n",
    "    tokens = word_tokenize(text)\n",
    "    tokens = [token for token in tokens if token not in eng_stopwords]\n",
    "    return ' '.join(tokens)"
   ]
  },
  {
   "cell_type": "markdown",
   "id": "80000ff6-37ff-4b8c-9b50-53e0248eac8f",
   "metadata": {},
   "source": [
    "<div id=\"stemming\" >\n",
    "    <h4>Stemming</h4>\n",
    "</div>\n",
    "\n",
    "[Back to top](#top)"
   ]
  },
  {
   "cell_type": "code",
   "execution_count": 25,
   "id": "522ccde3-0d2c-44b5-8e3e-d91204216536",
   "metadata": {},
   "outputs": [],
   "source": [
    "stemmer = SnowballStemmer(language=\"english\")"
   ]
  },
  {
   "cell_type": "code",
   "execution_count": 26,
   "id": "88a8ed6e-8b02-465c-ae81-e6d33d6176f0",
   "metadata": {},
   "outputs": [],
   "source": [
    "def stem(text):\n",
    "    tokens = word_tokenize(text)\n",
    "    tokens = [stemmer.stem(token) for token in tokens]\n",
    "    return ' '.join(tokens)"
   ]
  },
  {
   "cell_type": "markdown",
   "id": "9b8940f4-25da-479c-8d4a-98653af83eda",
   "metadata": {},
   "source": [
    "<div id=\"apply_the_transformations\" >\n",
    "    <h4>Apply the transformations</h4>\n",
    "</div>\n",
    "\n",
    "[Back to top](#top)"
   ]
  },
  {
   "cell_type": "code",
   "execution_count": 27,
   "id": "1612e5ff-3e74-4222-86ff-3a67b28b85e6",
   "metadata": {},
   "outputs": [],
   "source": [
    "def clean(text):\n",
    "    text = remove_reptitive_characters(text)\n",
    "    text = normalaize_unicode_chars(text)\n",
    "    text = handle_special_entries(text)\n",
    "    text = lower(text)\n",
    "    text = remove_punctuation(text)\n",
    "    text = remove_stopwords(text)\n",
    "    text = stem(text)\n",
    "    return text"
   ]
  },
  {
   "cell_type": "code",
   "execution_count": 28,
   "id": "fcec0f37-ff38-42f4-a68c-3f9d2d0cfa16",
   "metadata": {},
   "outputs": [
    {
     "data": {
      "application/vnd.jupyter.widget-view+json": {
       "model_id": "682b2977ac9b47e08f1fe36d13e1da9d",
       "version_major": 2,
       "version_minor": 0
      },
      "text/plain": [
       "  0%|          | 0/19579 [00:00<?, ?it/s]"
      ]
     },
     "metadata": {},
     "output_type": "display_data"
    }
   ],
   "source": [
    "df[\"processed_text\"] = df[\"text\"].progress_apply(clean)"
   ]
  },
  {
   "cell_type": "markdown",
   "id": "8828c99c-1b59-48d6-a3fa-828fb9bb5dc2",
   "metadata": {},
   "source": [
    "<div id=\"data_splitting\" >\n",
    "    <h3>Data Splitting</h3>\n",
    "</div>\n",
    "\n",
    "[Back to top](#top)"
   ]
  },
  {
   "cell_type": "code",
   "execution_count": 27,
   "id": "590fbef3-8c4e-4831-9c95-dede65f2870a",
   "metadata": {},
   "outputs": [],
   "source": [
    "X = df[\"processed_text\"]\n",
    "y = df[\"author\"]"
   ]
  },
  {
   "cell_type": "code",
   "execution_count": 28,
   "id": "9c8b05e6-a308-40cc-b21a-2309d767bdf0",
   "metadata": {},
   "outputs": [
    {
     "data": {
      "text/plain": [
       "<Axes: xlabel='author', ylabel='count'>"
      ]
     },
     "execution_count": 28,
     "metadata": {},
     "output_type": "execute_result"
    },
    {
     "data": {
      "image/png": "[encoded data removed]",
      "text/plain": [
       "<Figure size 640x480 with 1 Axes>"
      ]
     },
     "metadata": {},
     "output_type": "display_data"
    }
   ],
   "source": [
    "sns.countplot(x=y)"
   ]
  },
  {
   "cell_type": "code",
   "execution_count": 29,
   "id": "ecb38afd-a35b-4082-a126-e2d5f92762d3",
   "metadata": {},
   "outputs": [],
   "source": [
    "X_train,X_test,y_train,y_test = train_test_split(X, y, test_size=0.3, random_state=0,stratify=y)"
   ]
  },
  {
   "cell_type": "code",
   "execution_count": 30,
   "id": "0c46b197-2519-42aa-9a2b-d6db217d6963",
   "metadata": {},
   "outputs": [
    {
     "data": {
      "text/plain": [
       "Text(0.5, 1.0, 'Test test label distribution')"
      ]
     },
     "execution_count": 30,
     "metadata": {},
     "output_type": "execute_result"
    },
    {
     "data": {
      "image/png": "[encoded data removed]",
      "text/plain": [
       "<Figure size 1000x500 with 2 Axes>"
      ]
     },
     "metadata": {},
     "output_type": "display_data"
    }
   ],
   "source": [
    "fig, (ax1, ax2) = plt.subplots(nrows=1,ncols=2)\n",
    "\n",
    "fig.set_size_inches(10,5)\n",
    "\n",
    "sns.countplot(x=y_train,ax=ax1)\n",
    "sns.countplot(x=y_test,ax=ax2)\n",
    "\n",
    "ax1.set_title(\"Train test label distribution\")\n",
    "ax2.set_title(\"Test test label distribution\")"
   ]
  },
  {
   "cell_type": "markdown",
   "id": "8c9e6049-9d50-4f78-8d36-015f46ad50c9",
   "metadata": {},
   "source": [
    "<div id=\"vectorization_methods\" >\n",
    "    <h3>Vectorization Methods</h3>\n",
    "</div>\n",
    "\n",
    "[Back to top](#top)"
   ]
  },
  {
   "cell_type": "markdown",
   "id": "84617b27-a7b2-4348-b8d8-382a236d2af1",
   "metadata": {},
   "source": [
    "- override the default tokenizer"
   ]
  },
  {
   "cell_type": "code",
   "execution_count": 31,
   "id": "d93d467e-bf75-494a-a69d-10904719f742",
   "metadata": {},
   "outputs": [],
   "source": [
    "def dummy(text):\n",
    "    return text"
   ]
  },
  {
   "cell_type": "code",
   "execution_count": 32,
   "id": "c1ff056b-ba48-420b-b966-10654ee294b5",
   "metadata": {},
   "outputs": [],
   "source": [
    "def create_vectorizer(vectorizer, tokenizer):\n",
    "    \n",
    "    params = vectorizer.get_params()\n",
    "    params['tokenizer'] = tokenizer\n",
    "    params['preprocessor'] = dummy\n",
    "\n",
    "    vectorizer.set_params(**params)\n",
    "\n",
    "    return vectorizer"
   ]
  },
  {
   "cell_type": "markdown",
   "id": "67102158-ede3-4e7b-8b89-65642121106b",
   "metadata": {},
   "source": [
    "- rule based"
   ]
  },
  {
   "cell_type": "code",
   "execution_count": 33,
   "id": "1c1fe6a9-0f20-481c-98cc-b79abcae77c0",
   "metadata": {},
   "outputs": [],
   "source": [
    "def make_tokenizer():\n",
    "\n",
    "    nlp = English()\n",
    "    tokenizer = Tokenizer(nlp.vocab)\n",
    "\n",
    "    return tokenizer"
   ]
  },
  {
   "cell_type": "code",
   "execution_count": 34,
   "id": "82e6807e-4039-4c39-b43d-9c172ee82d22",
   "metadata": {},
   "outputs": [],
   "source": [
    "rule_based_tokenizer = make_tokenizer()"
   ]
  },
  {
   "cell_type": "code",
   "execution_count": 35,
   "id": "e39d1ad5-39c5-42b4-a060-ad3caf7e5241",
   "metadata": {},
   "outputs": [],
   "source": [
    "def rulebased(text):\n",
    "    return [str(token) for token in rule_based_tokenizer(text)]"
   ]
  },
  {
   "cell_type": "markdown",
   "id": "9eb23297-2117-4f15-94c8-8600f81e2122",
   "metadata": {},
   "source": [
    "- word piece"
   ]
  },
  {
   "cell_type": "code",
   "execution_count": 36,
   "id": "6a6fadc5-1908-4829-b5ca-9ad003c9d286",
   "metadata": {},
   "outputs": [],
   "source": [
    "wordpiece_tokenizer = WordPieceTokenizer()"
   ]
  },
  {
   "cell_type": "code",
   "execution_count": 37,
   "id": "d7a5998f-e224-44ee-adea-7cc65b55f32a",
   "metadata": {},
   "outputs": [],
   "source": [
    "def wordpiece(text):\n",
    "    ids = wordpiece_tokenizer.tokenize(text)\n",
    "    return wordpiece_tokenizer.convert_ids_to_tokens(ids)"
   ]
  },
  {
   "cell_type": "markdown",
   "id": "3d93fab4-ebdd-4c43-8baa-8468d540b382",
   "metadata": {},
   "source": [
    "- define the vectorizers"
   ]
  },
  {
   "cell_type": "code",
   "execution_count": 38,
   "id": "4922ec2a-7b2d-47a6-a799-afe64c643af5",
   "metadata": {},
   "outputs": [],
   "source": [
    "cv_space_based = create_vectorizer(CountVectorizer(), tokenizer=word_tokenize)\n",
    "tfidf_space_based = create_vectorizer(TfidfVectorizer(), tokenizer=word_tokenize)\n",
    "one_hot_space_based = create_vectorizer(CountVectorizer(binary=True), tokenizer=word_tokenize)\n",
    "\n",
    "cv_wordpiece = create_vectorizer(CountVectorizer(), tokenizer=wordpiece)\n",
    "tfidf_wordpiece = create_vectorizer(TfidfVectorizer(), tokenizer=wordpiece)\n",
    "one_hot_wordpiece = create_vectorizer(CountVectorizer(binary=True), tokenizer=wordpiece)\n",
    "\n",
    "cv_rule_based = create_vectorizer(CountVectorizer(), tokenizer=rulebased)\n",
    "tfidf_rule_based = create_vectorizer(TfidfVectorizer(), tokenizer=rulebased)\n",
    "one_hot_rule_based = create_vectorizer(CountVectorizer(binary=True), tokenizer=rulebased)"
   ]
  },
  {
   "cell_type": "markdown",
   "id": "73a3c161-fd75-406c-b3e9-5fd798260a30",
   "metadata": {},
   "source": [
    "- Test the vectorization techniques on a simple dataset"
   ]
  },
  {
   "cell_type": "code",
   "execution_count": 39,
   "id": "5bdd7a96-2342-49ce-a2c9-576da08f21df",
   "metadata": {},
   "outputs": [],
   "source": [
    "_X = [\n",
    "    \"i love natural language processing\",\n",
    "    \"i am studying natural language processing\",\n",
    "    \"i love natural language processing, i am studying natural language processing\",\n",
    "]"
   ]
  },
  {
   "cell_type": "code",
   "execution_count": 40,
   "id": "b1a7afd4-01ba-4595-af52-54886ad34484",
   "metadata": {},
   "outputs": [],
   "source": [
    "def test_vectorizer(X, vectorizer):\n",
    "    vectorizer.fit(X)\n",
    "    data = vectorizer.transform(X).toarray()\n",
    "    features = vectorizer.get_feature_names_out()\n",
    "    return pd.DataFrame(data=data,columns=features)"
   ]
  },
  {
   "cell_type": "code",
   "execution_count": 41,
   "id": "8d8b5e79-44ab-4b65-8688-eb9aca1a2463",
   "metadata": {},
   "outputs": [
    {
     "data": {
      "text/html": [
       "<div>\n",
       "<style scoped>\n",
       "    .dataframe tbody tr th:only-of-type {\n",
       "        vertical-align: middle;\n",
       "    }\n",
       "\n",
       "    .dataframe tbody tr th {\n",
       "        vertical-align: top;\n",
       "    }\n",
       "\n",
       "    .dataframe thead th {\n",
       "        text-align: right;\n",
       "    }\n",
       "</style>\n",
       "<table border=\"1\" class=\"dataframe\">\n",
       "  <thead>\n",
       "    <tr style=\"text-align: right;\">\n",
       "      <th></th>\n",
       "      <th>,</th>\n",
       "      <th>am</th>\n",
       "      <th>i</th>\n",
       "      <th>language</th>\n",
       "      <th>love</th>\n",
       "      <th>natural</th>\n",
       "      <th>processing</th>\n",
       "      <th>studying</th>\n",
       "    </tr>\n",
       "  </thead>\n",
       "  <tbody>\n",
       "    <tr>\n",
       "      <th>0</th>\n",
       "      <td>0</td>\n",
       "      <td>0</td>\n",
       "      <td>1</td>\n",
       "      <td>1</td>\n",
       "      <td>1</td>\n",
       "      <td>1</td>\n",
       "      <td>1</td>\n",
       "      <td>0</td>\n",
       "    </tr>\n",
       "    <tr>\n",
       "      <th>1</th>\n",
       "      <td>0</td>\n",
       "      <td>1</td>\n",
       "      <td>1</td>\n",
       "      <td>1</td>\n",
       "      <td>0</td>\n",
       "      <td>1</td>\n",
       "      <td>1</td>\n",
       "      <td>1</td>\n",
       "    </tr>\n",
       "    <tr>\n",
       "      <th>2</th>\n",
       "      <td>1</td>\n",
       "      <td>1</td>\n",
       "      <td>2</td>\n",
       "      <td>2</td>\n",
       "      <td>1</td>\n",
       "      <td>2</td>\n",
       "      <td>2</td>\n",
       "      <td>1</td>\n",
       "    </tr>\n",
       "  </tbody>\n",
       "</table>\n",
       "</div>"
      ],
      "text/plain": [
       "   ,  am  i  language  love  natural  processing  studying\n",
       "0  0   0  1         1     1        1           1         0\n",
       "1  0   1  1         1     0        1           1         1\n",
       "2  1   1  2         2     1        2           2         1"
      ]
     },
     "execution_count": 41,
     "metadata": {},
     "output_type": "execute_result"
    }
   ],
   "source": [
    "test_vectorizer(_X, cv_space_based)"
   ]
  },
  {
   "cell_type": "code",
   "execution_count": 42,
   "id": "d74696f7-9a53-41ab-8b1d-5594e5882b8f",
   "metadata": {},
   "outputs": [
    {
     "data": {
      "text/html": [
       "<div>\n",
       "<style scoped>\n",
       "    .dataframe tbody tr th:only-of-type {\n",
       "        vertical-align: middle;\n",
       "    }\n",
       "\n",
       "    .dataframe tbody tr th {\n",
       "        vertical-align: top;\n",
       "    }\n",
       "\n",
       "    .dataframe thead th {\n",
       "        text-align: right;\n",
       "    }\n",
       "</style>\n",
       "<table border=\"1\" class=\"dataframe\">\n",
       "  <thead>\n",
       "    <tr style=\"text-align: right;\">\n",
       "      <th></th>\n",
       "      <th>,</th>\n",
       "      <th>am</th>\n",
       "      <th>i</th>\n",
       "      <th>language</th>\n",
       "      <th>love</th>\n",
       "      <th>natural</th>\n",
       "      <th>processing</th>\n",
       "      <th>studying</th>\n",
       "    </tr>\n",
       "  </thead>\n",
       "  <tbody>\n",
       "    <tr>\n",
       "      <th>0</th>\n",
       "      <td>0.000000</td>\n",
       "      <td>0.000000</td>\n",
       "      <td>0.420401</td>\n",
       "      <td>0.420401</td>\n",
       "      <td>0.541343</td>\n",
       "      <td>0.420401</td>\n",
       "      <td>0.420401</td>\n",
       "      <td>0.000000</td>\n",
       "    </tr>\n",
       "    <tr>\n",
       "      <th>1</th>\n",
       "      <td>0.000000</td>\n",
       "      <td>0.476063</td>\n",
       "      <td>0.369705</td>\n",
       "      <td>0.369705</td>\n",
       "      <td>0.000000</td>\n",
       "      <td>0.369705</td>\n",
       "      <td>0.369705</td>\n",
       "      <td>0.476063</td>\n",
       "    </tr>\n",
       "    <tr>\n",
       "      <th>2</th>\n",
       "      <td>0.346762</td>\n",
       "      <td>0.263721</td>\n",
       "      <td>0.409606</td>\n",
       "      <td>0.409606</td>\n",
       "      <td>0.263721</td>\n",
       "      <td>0.409606</td>\n",
       "      <td>0.409606</td>\n",
       "      <td>0.263721</td>\n",
       "    </tr>\n",
       "  </tbody>\n",
       "</table>\n",
       "</div>"
      ],
      "text/plain": [
       "          ,        am         i  language      love   natural  processing  \\\n",
       "0  0.000000  0.000000  0.420401  0.420401  0.541343  0.420401    0.420401   \n",
       "1  0.000000  0.476063  0.369705  0.369705  0.000000  0.369705    0.369705   \n",
       "2  0.346762  0.263721  0.409606  0.409606  0.263721  0.409606    0.409606   \n",
       "\n",
       "   studying  \n",
       "0  0.000000  \n",
       "1  0.476063  \n",
       "2  0.263721  "
      ]
     },
     "execution_count": 42,
     "metadata": {},
     "output_type": "execute_result"
    }
   ],
   "source": [
    "test_vectorizer(_X, tfidf_space_based)"
   ]
  },
  {
   "cell_type": "code",
   "execution_count": 43,
   "id": "c22dbfd6-6a13-44bf-a50f-58848a23efb9",
   "metadata": {},
   "outputs": [
    {
     "data": {
      "text/html": [
       "<div>\n",
       "<style scoped>\n",
       "    .dataframe tbody tr th:only-of-type {\n",
       "        vertical-align: middle;\n",
       "    }\n",
       "\n",
       "    .dataframe tbody tr th {\n",
       "        vertical-align: top;\n",
       "    }\n",
       "\n",
       "    .dataframe thead th {\n",
       "        text-align: right;\n",
       "    }\n",
       "</style>\n",
       "<table border=\"1\" class=\"dataframe\">\n",
       "  <thead>\n",
       "    <tr style=\"text-align: right;\">\n",
       "      <th></th>\n",
       "      <th>,</th>\n",
       "      <th>am</th>\n",
       "      <th>i</th>\n",
       "      <th>language</th>\n",
       "      <th>love</th>\n",
       "      <th>natural</th>\n",
       "      <th>processing</th>\n",
       "      <th>studying</th>\n",
       "    </tr>\n",
       "  </thead>\n",
       "  <tbody>\n",
       "    <tr>\n",
       "      <th>0</th>\n",
       "      <td>0</td>\n",
       "      <td>0</td>\n",
       "      <td>1</td>\n",
       "      <td>1</td>\n",
       "      <td>1</td>\n",
       "      <td>1</td>\n",
       "      <td>1</td>\n",
       "      <td>0</td>\n",
       "    </tr>\n",
       "    <tr>\n",
       "      <th>1</th>\n",
       "      <td>0</td>\n",
       "      <td>1</td>\n",
       "      <td>1</td>\n",
       "      <td>1</td>\n",
       "      <td>0</td>\n",
       "      <td>1</td>\n",
       "      <td>1</td>\n",
       "      <td>1</td>\n",
       "    </tr>\n",
       "    <tr>\n",
       "      <th>2</th>\n",
       "      <td>1</td>\n",
       "      <td>1</td>\n",
       "      <td>1</td>\n",
       "      <td>1</td>\n",
       "      <td>1</td>\n",
       "      <td>1</td>\n",
       "      <td>1</td>\n",
       "      <td>1</td>\n",
       "    </tr>\n",
       "  </tbody>\n",
       "</table>\n",
       "</div>"
      ],
      "text/plain": [
       "   ,  am  i  language  love  natural  processing  studying\n",
       "0  0   0  1         1     1        1           1         0\n",
       "1  0   1  1         1     0        1           1         1\n",
       "2  1   1  1         1     1        1           1         1"
      ]
     },
     "execution_count": 43,
     "metadata": {},
     "output_type": "execute_result"
    }
   ],
   "source": [
    "test_vectorizer(_X, one_hot_space_based)"
   ]
  },
  {
   "cell_type": "code",
   "execution_count": 44,
   "id": "abb596a8-e2eb-4e9b-9f39-3c688661d69b",
   "metadata": {},
   "outputs": [
    {
     "data": {
      "text/html": [
       "<div>\n",
       "<style scoped>\n",
       "    .dataframe tbody tr th:only-of-type {\n",
       "        vertical-align: middle;\n",
       "    }\n",
       "\n",
       "    .dataframe tbody tr th {\n",
       "        vertical-align: top;\n",
       "    }\n",
       "\n",
       "    .dataframe thead th {\n",
       "        text-align: right;\n",
       "    }\n",
       "</style>\n",
       "<table border=\"1\" class=\"dataframe\">\n",
       "  <thead>\n",
       "    <tr style=\"text-align: right;\">\n",
       "      <th></th>\n",
       "      <th>,</th>\n",
       "      <th>[CLS]</th>\n",
       "      <th>[SEP]</th>\n",
       "      <th>am</th>\n",
       "      <th>i</th>\n",
       "      <th>language</th>\n",
       "      <th>love</th>\n",
       "      <th>natural</th>\n",
       "      <th>processing</th>\n",
       "      <th>studying</th>\n",
       "    </tr>\n",
       "  </thead>\n",
       "  <tbody>\n",
       "    <tr>\n",
       "      <th>0</th>\n",
       "      <td>0</td>\n",
       "      <td>1</td>\n",
       "      <td>1</td>\n",
       "      <td>0</td>\n",
       "      <td>1</td>\n",
       "      <td>1</td>\n",
       "      <td>1</td>\n",
       "      <td>1</td>\n",
       "      <td>1</td>\n",
       "      <td>0</td>\n",
       "    </tr>\n",
       "    <tr>\n",
       "      <th>1</th>\n",
       "      <td>0</td>\n",
       "      <td>1</td>\n",
       "      <td>1</td>\n",
       "      <td>1</td>\n",
       "      <td>1</td>\n",
       "      <td>1</td>\n",
       "      <td>0</td>\n",
       "      <td>1</td>\n",
       "      <td>1</td>\n",
       "      <td>1</td>\n",
       "    </tr>\n",
       "    <tr>\n",
       "      <th>2</th>\n",
       "      <td>1</td>\n",
       "      <td>1</td>\n",
       "      <td>1</td>\n",
       "      <td>1</td>\n",
       "      <td>2</td>\n",
       "      <td>2</td>\n",
       "      <td>1</td>\n",
       "      <td>2</td>\n",
       "      <td>2</td>\n",
       "      <td>1</td>\n",
       "    </tr>\n",
       "  </tbody>\n",
       "</table>\n",
       "</div>"
      ],
      "text/plain": [
       "   ,  [CLS]  [SEP]  am  i  language  love  natural  processing  studying\n",
       "0  0      1      1   0  1         1     1        1           1         0\n",
       "1  0      1      1   1  1         1     0        1           1         1\n",
       "2  1      1      1   1  2         2     1        2           2         1"
      ]
     },
     "execution_count": 44,
     "metadata": {},
     "output_type": "execute_result"
    }
   ],
   "source": [
    "test_vectorizer(_X, cv_wordpiece)"
   ]
  },
  {
   "cell_type": "code",
   "execution_count": 45,
   "id": "1891ea47-81b5-4924-b129-cb626c3767ed",
   "metadata": {},
   "outputs": [
    {
     "data": {
      "text/html": [
       "<div>\n",
       "<style scoped>\n",
       "    .dataframe tbody tr th:only-of-type {\n",
       "        vertical-align: middle;\n",
       "    }\n",
       "\n",
       "    .dataframe tbody tr th {\n",
       "        vertical-align: top;\n",
       "    }\n",
       "\n",
       "    .dataframe thead th {\n",
       "        text-align: right;\n",
       "    }\n",
       "</style>\n",
       "<table border=\"1\" class=\"dataframe\">\n",
       "  <thead>\n",
       "    <tr style=\"text-align: right;\">\n",
       "      <th></th>\n",
       "      <th>,</th>\n",
       "      <th>[CLS]</th>\n",
       "      <th>[SEP]</th>\n",
       "      <th>am</th>\n",
       "      <th>i</th>\n",
       "      <th>language</th>\n",
       "      <th>love</th>\n",
       "      <th>natural</th>\n",
       "      <th>processing</th>\n",
       "      <th>studying</th>\n",
       "    </tr>\n",
       "  </thead>\n",
       "  <tbody>\n",
       "    <tr>\n",
       "      <th>0</th>\n",
       "      <td>0.000000</td>\n",
       "      <td>0.361359</td>\n",
       "      <td>0.361359</td>\n",
       "      <td>0.000000</td>\n",
       "      <td>0.361359</td>\n",
       "      <td>0.361359</td>\n",
       "      <td>0.465315</td>\n",
       "      <td>0.361359</td>\n",
       "      <td>0.361359</td>\n",
       "      <td>0.000000</td>\n",
       "    </tr>\n",
       "    <tr>\n",
       "      <th>1</th>\n",
       "      <td>0.000000</td>\n",
       "      <td>0.327627</td>\n",
       "      <td>0.327627</td>\n",
       "      <td>0.421879</td>\n",
       "      <td>0.327627</td>\n",
       "      <td>0.327627</td>\n",
       "      <td>0.000000</td>\n",
       "      <td>0.327627</td>\n",
       "      <td>0.327627</td>\n",
       "      <td>0.421879</td>\n",
       "    </tr>\n",
       "    <tr>\n",
       "      <th>2</th>\n",
       "      <td>0.333073</td>\n",
       "      <td>0.196718</td>\n",
       "      <td>0.196718</td>\n",
       "      <td>0.253310</td>\n",
       "      <td>0.393436</td>\n",
       "      <td>0.393436</td>\n",
       "      <td>0.253310</td>\n",
       "      <td>0.393436</td>\n",
       "      <td>0.393436</td>\n",
       "      <td>0.253310</td>\n",
       "    </tr>\n",
       "  </tbody>\n",
       "</table>\n",
       "</div>"
      ],
      "text/plain": [
       "          ,     [CLS]     [SEP]        am         i  language      love  \\\n",
       "0  0.000000  0.361359  0.361359  0.000000  0.361359  0.361359  0.465315   \n",
       "1  0.000000  0.327627  0.327627  0.421879  0.327627  0.327627  0.000000   \n",
       "2  0.333073  0.196718  0.196718  0.253310  0.393436  0.393436  0.253310   \n",
       "\n",
       "    natural  processing  studying  \n",
       "0  0.361359    0.361359  0.000000  \n",
       "1  0.327627    0.327627  0.421879  \n",
       "2  0.393436    0.393436  0.253310  "
      ]
     },
     "execution_count": 45,
     "metadata": {},
     "output_type": "execute_result"
    }
   ],
   "source": [
    "test_vectorizer(_X, tfidf_wordpiece)"
   ]
  },
  {
   "cell_type": "code",
   "execution_count": 46,
   "id": "87ed483d-e4c4-48b3-a6fa-93822f3139cd",
   "metadata": {},
   "outputs": [
    {
     "data": {
      "text/html": [
       "<div>\n",
       "<style scoped>\n",
       "    .dataframe tbody tr th:only-of-type {\n",
       "        vertical-align: middle;\n",
       "    }\n",
       "\n",
       "    .dataframe tbody tr th {\n",
       "        vertical-align: top;\n",
       "    }\n",
       "\n",
       "    .dataframe thead th {\n",
       "        text-align: right;\n",
       "    }\n",
       "</style>\n",
       "<table border=\"1\" class=\"dataframe\">\n",
       "  <thead>\n",
       "    <tr style=\"text-align: right;\">\n",
       "      <th></th>\n",
       "      <th>,</th>\n",
       "      <th>[CLS]</th>\n",
       "      <th>[SEP]</th>\n",
       "      <th>am</th>\n",
       "      <th>i</th>\n",
       "      <th>language</th>\n",
       "      <th>love</th>\n",
       "      <th>natural</th>\n",
       "      <th>processing</th>\n",
       "      <th>studying</th>\n",
       "    </tr>\n",
       "  </thead>\n",
       "  <tbody>\n",
       "    <tr>\n",
       "      <th>0</th>\n",
       "      <td>0</td>\n",
       "      <td>1</td>\n",
       "      <td>1</td>\n",
       "      <td>0</td>\n",
       "      <td>1</td>\n",
       "      <td>1</td>\n",
       "      <td>1</td>\n",
       "      <td>1</td>\n",
       "      <td>1</td>\n",
       "      <td>0</td>\n",
       "    </tr>\n",
       "    <tr>\n",
       "      <th>1</th>\n",
       "      <td>0</td>\n",
       "      <td>1</td>\n",
       "      <td>1</td>\n",
       "      <td>1</td>\n",
       "      <td>1</td>\n",
       "      <td>1</td>\n",
       "      <td>0</td>\n",
       "      <td>1</td>\n",
       "      <td>1</td>\n",
       "      <td>1</td>\n",
       "    </tr>\n",
       "    <tr>\n",
       "      <th>2</th>\n",
       "      <td>1</td>\n",
       "      <td>1</td>\n",
       "      <td>1</td>\n",
       "      <td>1</td>\n",
       "      <td>1</td>\n",
       "      <td>1</td>\n",
       "      <td>1</td>\n",
       "      <td>1</td>\n",
       "      <td>1</td>\n",
       "      <td>1</td>\n",
       "    </tr>\n",
       "  </tbody>\n",
       "</table>\n",
       "</div>"
      ],
      "text/plain": [
       "   ,  [CLS]  [SEP]  am  i  language  love  natural  processing  studying\n",
       "0  0      1      1   0  1         1     1        1           1         0\n",
       "1  0      1      1   1  1         1     0        1           1         1\n",
       "2  1      1      1   1  1         1     1        1           1         1"
      ]
     },
     "execution_count": 46,
     "metadata": {},
     "output_type": "execute_result"
    }
   ],
   "source": [
    "test_vectorizer(_X, one_hot_wordpiece)"
   ]
  },
  {
   "cell_type": "code",
   "execution_count": 47,
   "id": "08d519d3-6bdd-4666-85ee-29980a62b072",
   "metadata": {},
   "outputs": [
    {
     "data": {
      "text/html": [
       "<div>\n",
       "<style scoped>\n",
       "    .dataframe tbody tr th:only-of-type {\n",
       "        vertical-align: middle;\n",
       "    }\n",
       "\n",
       "    .dataframe tbody tr th {\n",
       "        vertical-align: top;\n",
       "    }\n",
       "\n",
       "    .dataframe thead th {\n",
       "        text-align: right;\n",
       "    }\n",
       "</style>\n",
       "<table border=\"1\" class=\"dataframe\">\n",
       "  <thead>\n",
       "    <tr style=\"text-align: right;\">\n",
       "      <th></th>\n",
       "      <th>am</th>\n",
       "      <th>i</th>\n",
       "      <th>language</th>\n",
       "      <th>love</th>\n",
       "      <th>natural</th>\n",
       "      <th>processing</th>\n",
       "      <th>processing,</th>\n",
       "      <th>studying</th>\n",
       "    </tr>\n",
       "  </thead>\n",
       "  <tbody>\n",
       "    <tr>\n",
       "      <th>0</th>\n",
       "      <td>0</td>\n",
       "      <td>1</td>\n",
       "      <td>1</td>\n",
       "      <td>1</td>\n",
       "      <td>1</td>\n",
       "      <td>1</td>\n",
       "      <td>0</td>\n",
       "      <td>0</td>\n",
       "    </tr>\n",
       "    <tr>\n",
       "      <th>1</th>\n",
       "      <td>1</td>\n",
       "      <td>1</td>\n",
       "      <td>1</td>\n",
       "      <td>0</td>\n",
       "      <td>1</td>\n",
       "      <td>1</td>\n",
       "      <td>0</td>\n",
       "      <td>1</td>\n",
       "    </tr>\n",
       "    <tr>\n",
       "      <th>2</th>\n",
       "      <td>1</td>\n",
       "      <td>2</td>\n",
       "      <td>2</td>\n",
       "      <td>1</td>\n",
       "      <td>2</td>\n",
       "      <td>1</td>\n",
       "      <td>1</td>\n",
       "      <td>1</td>\n",
       "    </tr>\n",
       "  </tbody>\n",
       "</table>\n",
       "</div>"
      ],
      "text/plain": [
       "   am  i  language  love  natural  processing  processing,  studying\n",
       "0   0  1         1     1        1           1            0         0\n",
       "1   1  1         1     0        1           1            0         1\n",
       "2   1  2         2     1        2           1            1         1"
      ]
     },
     "execution_count": 47,
     "metadata": {},
     "output_type": "execute_result"
    }
   ],
   "source": [
    "test_vectorizer(_X, cv_rule_based)"
   ]
  },
  {
   "cell_type": "code",
   "execution_count": 48,
   "id": "2a1b5b21-1ba6-4ab8-8f19-67f2a8ba47e7",
   "metadata": {},
   "outputs": [
    {
     "data": {
      "text/html": [
       "<div>\n",
       "<style scoped>\n",
       "    .dataframe tbody tr th:only-of-type {\n",
       "        vertical-align: middle;\n",
       "    }\n",
       "\n",
       "    .dataframe tbody tr th {\n",
       "        vertical-align: top;\n",
       "    }\n",
       "\n",
       "    .dataframe thead th {\n",
       "        text-align: right;\n",
       "    }\n",
       "</style>\n",
       "<table border=\"1\" class=\"dataframe\">\n",
       "  <thead>\n",
       "    <tr style=\"text-align: right;\">\n",
       "      <th></th>\n",
       "      <th>am</th>\n",
       "      <th>i</th>\n",
       "      <th>language</th>\n",
       "      <th>love</th>\n",
       "      <th>natural</th>\n",
       "      <th>processing</th>\n",
       "      <th>processing,</th>\n",
       "      <th>studying</th>\n",
       "    </tr>\n",
       "  </thead>\n",
       "  <tbody>\n",
       "    <tr>\n",
       "      <th>0</th>\n",
       "      <td>0.000000</td>\n",
       "      <td>0.420401</td>\n",
       "      <td>0.420401</td>\n",
       "      <td>0.541343</td>\n",
       "      <td>0.420401</td>\n",
       "      <td>0.420401</td>\n",
       "      <td>0.000000</td>\n",
       "      <td>0.000000</td>\n",
       "    </tr>\n",
       "    <tr>\n",
       "      <th>1</th>\n",
       "      <td>0.476063</td>\n",
       "      <td>0.369705</td>\n",
       "      <td>0.369705</td>\n",
       "      <td>0.000000</td>\n",
       "      <td>0.369705</td>\n",
       "      <td>0.369705</td>\n",
       "      <td>0.000000</td>\n",
       "      <td>0.476063</td>\n",
       "    </tr>\n",
       "    <tr>\n",
       "      <th>2</th>\n",
       "      <td>0.282064</td>\n",
       "      <td>0.438096</td>\n",
       "      <td>0.438096</td>\n",
       "      <td>0.282064</td>\n",
       "      <td>0.438096</td>\n",
       "      <td>0.219048</td>\n",
       "      <td>0.370881</td>\n",
       "      <td>0.282064</td>\n",
       "    </tr>\n",
       "  </tbody>\n",
       "</table>\n",
       "</div>"
      ],
      "text/plain": [
       "         am         i  language      love   natural  processing  processing,  \\\n",
       "0  0.000000  0.420401  0.420401  0.541343  0.420401    0.420401     0.000000   \n",
       "1  0.476063  0.369705  0.369705  0.000000  0.369705    0.369705     0.000000   \n",
       "2  0.282064  0.438096  0.438096  0.282064  0.438096    0.219048     0.370881   \n",
       "\n",
       "   studying  \n",
       "0  0.000000  \n",
       "1  0.476063  \n",
       "2  0.282064  "
      ]
     },
     "execution_count": 48,
     "metadata": {},
     "output_type": "execute_result"
    }
   ],
   "source": [
    "test_vectorizer(_X, tfidf_rule_based)"
   ]
  },
  {
   "cell_type": "code",
   "execution_count": 49,
   "id": "c8c08c6e-9a6a-4df0-bbaf-6156b408b425",
   "metadata": {},
   "outputs": [
    {
     "data": {
      "text/html": [
       "<div>\n",
       "<style scoped>\n",
       "    .dataframe tbody tr th:only-of-type {\n",
       "        vertical-align: middle;\n",
       "    }\n",
       "\n",
       "    .dataframe tbody tr th {\n",
       "        vertical-align: top;\n",
       "    }\n",
       "\n",
       "    .dataframe thead th {\n",
       "        text-align: right;\n",
       "    }\n",
       "</style>\n",
       "<table border=\"1\" class=\"dataframe\">\n",
       "  <thead>\n",
       "    <tr style=\"text-align: right;\">\n",
       "      <th></th>\n",
       "      <th>am</th>\n",
       "      <th>i</th>\n",
       "      <th>language</th>\n",
       "      <th>love</th>\n",
       "      <th>natural</th>\n",
       "      <th>processing</th>\n",
       "      <th>processing,</th>\n",
       "      <th>studying</th>\n",
       "    </tr>\n",
       "  </thead>\n",
       "  <tbody>\n",
       "    <tr>\n",
       "      <th>0</th>\n",
       "      <td>0</td>\n",
       "      <td>1</td>\n",
       "      <td>1</td>\n",
       "      <td>1</td>\n",
       "      <td>1</td>\n",
       "      <td>1</td>\n",
       "      <td>0</td>\n",
       "      <td>0</td>\n",
       "    </tr>\n",
       "    <tr>\n",
       "      <th>1</th>\n",
       "      <td>1</td>\n",
       "      <td>1</td>\n",
       "      <td>1</td>\n",
       "      <td>0</td>\n",
       "      <td>1</td>\n",
       "      <td>1</td>\n",
       "      <td>0</td>\n",
       "      <td>1</td>\n",
       "    </tr>\n",
       "    <tr>\n",
       "      <th>2</th>\n",
       "      <td>1</td>\n",
       "      <td>1</td>\n",
       "      <td>1</td>\n",
       "      <td>1</td>\n",
       "      <td>1</td>\n",
       "      <td>1</td>\n",
       "      <td>1</td>\n",
       "      <td>1</td>\n",
       "    </tr>\n",
       "  </tbody>\n",
       "</table>\n",
       "</div>"
      ],
      "text/plain": [
       "   am  i  language  love  natural  processing  processing,  studying\n",
       "0   0  1         1     1        1           1            0         0\n",
       "1   1  1         1     0        1           1            0         1\n",
       "2   1  1         1     1        1           1            1         1"
      ]
     },
     "execution_count": 49,
     "metadata": {},
     "output_type": "execute_result"
    }
   ],
   "source": [
    "test_vectorizer(_X, one_hot_rule_based)"
   ]
  },
  {
   "cell_type": "markdown",
   "id": "1d67365f-38ff-4f38-94c0-a67f1a9db35a",
   "metadata": {},
   "source": [
    "<div id=\"training\" >\n",
    "    <h3>Training</h3>\n",
    "</div>\n",
    "\n",
    "[Back to top](#top)"
   ]
  },
  {
   "cell_type": "markdown",
   "id": "206a15f6-e416-4ff2-9009-ff9619beb564",
   "metadata": {},
   "source": [
    "- models creation"
   ]
  },
  {
   "cell_type": "code",
   "execution_count": 50,
   "id": "29f540ac-64ac-41d1-a89f-a8ef5a5a64b1",
   "metadata": {},
   "outputs": [],
   "source": [
    "models = {}"
   ]
  },
  {
   "cell_type": "code",
   "execution_count": 51,
   "id": "8d722af3-76ee-4530-b4c4-561a4ea739a3",
   "metadata": {},
   "outputs": [],
   "source": [
    "models[\"MLP Classifier + Bag of words + Space Based Tokenization\"] = Pipeline(steps=[\n",
    "    (\"Feature Extraction\", create_vectorizer(CountVectorizer(), tokenizer=word_tokenize)),\n",
    "    (\"Estimator\", MLPClassifier(hidden_layer_sizes=(8,),learning_rate_init=0.01,alpha=0.5))\n",
    "])"
   ]
  },
  {
   "cell_type": "code",
   "execution_count": 52,
   "id": "9eeecc44-3b49-48be-ba6e-7cf943351361",
   "metadata": {},
   "outputs": [],
   "source": [
    "models[\"MLP Classifier + TfIdf + Space Based Tokenization\"] = Pipeline(steps=[\n",
    "    (\"Feature Extraction\", create_vectorizer(TfidfVectorizer(), tokenizer=word_tokenize)),\n",
    "    (\"Estimator\", MLPClassifier(hidden_layer_sizes=(8,),learning_rate_init=0.01,alpha=0.5))\n",
    "])"
   ]
  },
  {
   "cell_type": "code",
   "execution_count": 53,
   "id": "8d8967ab-919e-47f4-bb1d-9ca2dd4e91e8",
   "metadata": {},
   "outputs": [],
   "source": [
    "models[\"MLP Classifier + One Hot + Space Based Tokenization\"] = Pipeline(steps=[\n",
    "    (\"Feature Extraction\", create_vectorizer(CountVectorizer(binary=True), tokenizer=word_tokenize)),\n",
    "    (\"Estimator\", MLPClassifier(hidden_layer_sizes=(8,),learning_rate_init=0.01,alpha=0.5))\n",
    "])"
   ]
  },
  {
   "cell_type": "code",
   "execution_count": 54,
   "id": "07d9577e-0eac-48a7-b0ee-211ef47ee444",
   "metadata": {},
   "outputs": [],
   "source": [
    "models[\"MLP Ckassifier + Bag of words + WordPiece Tokenization\"] = Pipeline(steps=[\n",
    "    (\"Feature Extraction\", create_vectorizer(CountVectorizer(), tokenizer=wordpiece)),\n",
    "    (\"Estimator\", MLPClassifier(hidden_layer_sizes=(8,),learning_rate_init=0.01,alpha=0.5))\n",
    "])"
   ]
  },
  {
   "cell_type": "code",
   "execution_count": 55,
   "id": "285d7fe9-a829-4b9c-82ee-7bc8a100928a",
   "metadata": {},
   "outputs": [],
   "source": [
    "models[\"MLP Ckassifier + TfIdf + WordPiece Tokenization\"] = Pipeline(steps=[\n",
    "    (\"Feature Extraction\", create_vectorizer(TfidfVectorizer(), tokenizer=wordpiece)),\n",
    "    (\"Estimator\", MLPClassifier(hidden_layer_sizes=(8,),learning_rate_init=0.01,alpha=0.5))\n",
    "])"
   ]
  },
  {
   "cell_type": "code",
   "execution_count": 56,
   "id": "6a10b4cf-433a-45fb-ad69-b41743d7b06b",
   "metadata": {},
   "outputs": [],
   "source": [
    "models[\"MLP Classifier + One hot + WordPiece Tokenization\"] = Pipeline(steps=[\n",
    "    (\"Feature Extraction\", create_vectorizer(CountVectorizer(binary=True), tokenizer=wordpiece)),\n",
    "    (\"Estimator\", MLPClassifier(hidden_layer_sizes=(8,),learning_rate_init=0.01,alpha=0.5))\n",
    "])"
   ]
  },
  {
   "cell_type": "code",
   "execution_count": 57,
   "id": "48082ba5-996c-474f-a224-867427462aaa",
   "metadata": {},
   "outputs": [],
   "source": [
    "models[\"MLP Classifier + Bag of words + Rule Based Tokenization\"] = Pipeline(steps=[\n",
    "    (\"Feature Extraction\", create_vectorizer(CountVectorizer(), tokenizer=rulebased)),\n",
    "    (\"Estimator\", MLPClassifier(hidden_layer_sizes=(8,),learning_rate_init=0.01,alpha=0.5))\n",
    "])"
   ]
  },
  {
   "cell_type": "code",
   "execution_count": 58,
   "id": "353efacd-59f3-46a7-9613-ec58d313d60e",
   "metadata": {},
   "outputs": [],
   "source": [
    "models[\"MLP Classifier + TfIdf + Rule Based Tokenization\"] = Pipeline(steps=[\n",
    "    (\"Feature Extraction\", create_vectorizer(TfidfVectorizer(), tokenizer=rulebased)),\n",
    "    (\"Estimator\", MLPClassifier(hidden_layer_sizes=(8,),learning_rate_init=0.01,alpha=0.5))\n",
    "])"
   ]
  },
  {
   "cell_type": "code",
   "execution_count": 59,
   "id": "de8b4e43-0033-4359-87b6-a981dd451375",
   "metadata": {},
   "outputs": [],
   "source": [
    "models[\"MLP Classifier + One hot + Rule Based Tokenization\"] = Pipeline(steps=[\n",
    "    (\"Feature Extraction\", create_vectorizer(CountVectorizer(binary=True), tokenizer=rulebased)),\n",
    "    (\"Estimator\", MLPClassifier(hidden_layer_sizes=(8,),learning_rate_init=0.01,alpha=0.5))\n",
    "])"
   ]
  },
  {
   "cell_type": "markdown",
   "id": "f8b18f66-0589-41b9-9066-6df02bc92938",
   "metadata": {},
   "source": [
    "- Define the metrics"
   ]
  },
  {
   "cell_type": "code",
   "execution_count": 60,
   "id": "7022ac32-4d5c-4a82-8281-6ec796b88a0e",
   "metadata": {},
   "outputs": [],
   "source": [
    "def f1_macro(y, y_hat):\n",
    "    return f1_score(y, y_hat, average='macro')"
   ]
  },
  {
   "cell_type": "code",
   "execution_count": 61,
   "id": "f39a18cf-c77d-405d-9c3a-fb91b97bfe74",
   "metadata": {},
   "outputs": [],
   "source": [
    "def precision_macro(y, y_hat):\n",
    "    return precision_score(y, y_hat, average='macro')"
   ]
  },
  {
   "cell_type": "code",
   "execution_count": 62,
   "id": "868495ec-accd-4f81-9dd3-f7e8675ec434",
   "metadata": {},
   "outputs": [],
   "source": [
    "def recall_macro(y, y_hat):\n",
    "    return recall_score(y, y_hat, average='macro')"
   ]
  },
  {
   "cell_type": "code",
   "execution_count": 63,
   "id": "a8858f67-f35e-4de1-bdef-00f3e0bead09",
   "metadata": {},
   "outputs": [],
   "source": [
    "metrics = {\n",
    "    \"accuracy\":accuracy_score,\n",
    "    \"f1 score\":f1_macro,\n",
    "    \"precision\":precision_macro,\n",
    "    \"recall\":recall_macro\n",
    "}"
   ]
  },
  {
   "cell_type": "markdown",
   "id": "f1cc3c6a-745c-47df-acf7-d8fdad87a558",
   "metadata": {},
   "source": [
    "- training"
   ]
  },
  {
   "cell_type": "code",
   "execution_count": 64,
   "id": "9d12abb0-4570-41c4-b1d5-7f2fe16cbab4",
   "metadata": {},
   "outputs": [],
   "source": [
    "def train(X, y, metrics, models):\n",
    "    results = {}\n",
    "\n",
    "    for model in models.keys():\n",
    "        results[model] = []\n",
    "\n",
    "    for model_name, model in models.items():\n",
    "\n",
    "        print(f\"--- {model_name} ---\")\n",
    "        tic = time.time()\n",
    "        model.fit(X, y)\n",
    "        toc = time.time()\n",
    "        \n",
    "        y_hat = model.predict(X)\n",
    "        \n",
    "        for metric_name, metric in metrics.items():\n",
    "            score = metric(y, y_hat)\n",
    "            results[model_name].append(score)\n",
    "\n",
    "        results[model_name].append(int((toc - tic) * 1000) / 1000)\n",
    "\n",
    "    index = list(metrics.keys()) + ['fit time (in seconds)']\n",
    "    return pd.DataFrame(results, index=index).transpose()"
   ]
  },
  {
   "cell_type": "code",
   "execution_count": 65,
   "id": "29173ff3-6874-4175-8ff4-8fbc4481065d",
   "metadata": {},
   "outputs": [
    {
     "name": "stdout",
     "output_type": "stream",
     "text": [
      "--- MLP Classifier + Bag of words + Space Based Tokenization ---\n",
      "--- MLP Classifier + TfIdf + Space Based Tokenization ---\n",
      "--- MLP Classifier + One Hot + Space Based Tokenization ---\n",
      "--- MLP Ckassifier + Bag of words + WordPiece Tokenization ---\n",
      "--- MLP Ckassifier + TfIdf + WordPiece Tokenization ---\n",
      "--- MLP Classifier + One hot + WordPiece Tokenization ---\n",
      "--- MLP Classifier + Bag of words + Rule Based Tokenization ---\n",
      "--- MLP Classifier + TfIdf + Rule Based Tokenization ---\n",
      "--- MLP Classifier + One hot + Rule Based Tokenization ---\n"
     ]
    },
    {
     "data": {
      "text/html": [
       "<div>\n",
       "<style scoped>\n",
       "    .dataframe tbody tr th:only-of-type {\n",
       "        vertical-align: middle;\n",
       "    }\n",
       "\n",
       "    .dataframe tbody tr th {\n",
       "        vertical-align: top;\n",
       "    }\n",
       "\n",
       "    .dataframe thead th {\n",
       "        text-align: right;\n",
       "    }\n",
       "</style>\n",
       "<table border=\"1\" class=\"dataframe\">\n",
       "  <thead>\n",
       "    <tr style=\"text-align: right;\">\n",
       "      <th></th>\n",
       "      <th>accuracy</th>\n",
       "      <th>f1 score</th>\n",
       "      <th>precision</th>\n",
       "      <th>recall</th>\n",
       "      <th>fit time (in seconds)</th>\n",
       "    </tr>\n",
       "  </thead>\n",
       "  <tbody>\n",
       "    <tr>\n",
       "      <th>MLP Classifier + Bag of words + Space Based Tokenization</th>\n",
       "      <td>0.942284</td>\n",
       "      <td>0.942470</td>\n",
       "      <td>0.945334</td>\n",
       "      <td>0.940228</td>\n",
       "      <td>35.060</td>\n",
       "    </tr>\n",
       "    <tr>\n",
       "      <th>MLP Classifier + TfIdf + Space Based Tokenization</th>\n",
       "      <td>0.923313</td>\n",
       "      <td>0.923031</td>\n",
       "      <td>0.924880</td>\n",
       "      <td>0.921441</td>\n",
       "      <td>37.089</td>\n",
       "    </tr>\n",
       "    <tr>\n",
       "      <th>MLP Classifier + One Hot + Space Based Tokenization</th>\n",
       "      <td>0.941262</td>\n",
       "      <td>0.941447</td>\n",
       "      <td>0.944229</td>\n",
       "      <td>0.939583</td>\n",
       "      <td>37.143</td>\n",
       "    </tr>\n",
       "    <tr>\n",
       "      <th>MLP Ckassifier + Bag of words + WordPiece Tokenization</th>\n",
       "      <td>0.911784</td>\n",
       "      <td>0.911918</td>\n",
       "      <td>0.915950</td>\n",
       "      <td>0.908900</td>\n",
       "      <td>36.348</td>\n",
       "    </tr>\n",
       "    <tr>\n",
       "      <th>MLP Ckassifier + TfIdf + WordPiece Tokenization</th>\n",
       "      <td>0.887049</td>\n",
       "      <td>0.886746</td>\n",
       "      <td>0.893596</td>\n",
       "      <td>0.882198</td>\n",
       "      <td>35.883</td>\n",
       "    </tr>\n",
       "    <tr>\n",
       "      <th>MLP Classifier + One hot + WordPiece Tokenization</th>\n",
       "      <td>0.916016</td>\n",
       "      <td>0.915994</td>\n",
       "      <td>0.918478</td>\n",
       "      <td>0.914027</td>\n",
       "      <td>23.038</td>\n",
       "    </tr>\n",
       "    <tr>\n",
       "      <th>MLP Classifier + Bag of words + Rule Based Tokenization</th>\n",
       "      <td>0.943524</td>\n",
       "      <td>0.943680</td>\n",
       "      <td>0.946917</td>\n",
       "      <td>0.941113</td>\n",
       "      <td>43.870</td>\n",
       "    </tr>\n",
       "    <tr>\n",
       "      <th>MLP Classifier + TfIdf + Rule Based Tokenization</th>\n",
       "      <td>0.926888</td>\n",
       "      <td>0.926983</td>\n",
       "      <td>0.926865</td>\n",
       "      <td>0.927553</td>\n",
       "      <td>47.641</td>\n",
       "    </tr>\n",
       "    <tr>\n",
       "      <th>MLP Classifier + One hot + Rule Based Tokenization</th>\n",
       "      <td>0.943378</td>\n",
       "      <td>0.943773</td>\n",
       "      <td>0.949149</td>\n",
       "      <td>0.939911</td>\n",
       "      <td>35.389</td>\n",
       "    </tr>\n",
       "  </tbody>\n",
       "</table>\n",
       "</div>"
      ],
      "text/plain": [
       "                                                    accuracy  f1 score  \\\n",
       "MLP Classifier + Bag of words + Space Based Tok...  0.942284  0.942470   \n",
       "MLP Classifier + TfIdf + Space Based Tokenization   0.923313  0.923031   \n",
       "MLP Classifier + One Hot + Space Based Tokeniza...  0.941262  0.941447   \n",
       "MLP Ckassifier + Bag of words + WordPiece Token...  0.911784  0.911918   \n",
       "MLP Ckassifier + TfIdf + WordPiece Tokenization     0.887049  0.886746   \n",
       "MLP Classifier + One hot + WordPiece Tokenization   0.916016  0.915994   \n",
       "MLP Classifier + Bag of words + Rule Based Toke...  0.943524  0.943680   \n",
       "MLP Classifier + TfIdf + Rule Based Tokenization    0.926888  0.926983   \n",
       "MLP Classifier + One hot + Rule Based Tokenization  0.943378  0.943773   \n",
       "\n",
       "                                                    precision    recall  \\\n",
       "MLP Classifier + Bag of words + Space Based Tok...   0.945334  0.940228   \n",
       "MLP Classifier + TfIdf + Space Based Tokenization    0.924880  0.921441   \n",
       "MLP Classifier + One Hot + Space Based Tokeniza...   0.944229  0.939583   \n",
       "MLP Ckassifier + Bag of words + WordPiece Token...   0.915950  0.908900   \n",
       "MLP Ckassifier + TfIdf + WordPiece Tokenization      0.893596  0.882198   \n",
       "MLP Classifier + One hot + WordPiece Tokenization    0.918478  0.914027   \n",
       "MLP Classifier + Bag of words + Rule Based Toke...   0.946917  0.941113   \n",
       "MLP Classifier + TfIdf + Rule Based Tokenization     0.926865  0.927553   \n",
       "MLP Classifier + One hot + Rule Based Tokenization   0.949149  0.939911   \n",
       "\n",
       "                                                    fit time (in seconds)  \n",
       "MLP Classifier + Bag of words + Space Based Tok...                 35.060  \n",
       "MLP Classifier + TfIdf + Space Based Tokenization                  37.089  \n",
       "MLP Classifier + One Hot + Space Based Tokeniza...                 37.143  \n",
       "MLP Ckassifier + Bag of words + WordPiece Token...                 36.348  \n",
       "MLP Ckassifier + TfIdf + WordPiece Tokenization                    35.883  \n",
       "MLP Classifier + One hot + WordPiece Tokenization                  23.038  \n",
       "MLP Classifier + Bag of words + Rule Based Toke...                 43.870  \n",
       "MLP Classifier + TfIdf + Rule Based Tokenization                   47.641  \n",
       "MLP Classifier + One hot + Rule Based Tokenization                 35.389  "
      ]
     },
     "execution_count": 65,
     "metadata": {},
     "output_type": "execute_result"
    }
   ],
   "source": [
    "train(X_train,y_train,metrics, models)"
   ]
  },
  {
   "cell_type": "markdown",
   "id": "7768e37b-c5db-426a-a639-cc8c9672574e",
   "metadata": {},
   "source": [
    "- Evaluation"
   ]
  },
  {
   "cell_type": "code",
   "execution_count": 66,
   "id": "51ddbc95-b54d-405a-95df-7cf92633dfdf",
   "metadata": {},
   "outputs": [],
   "source": [
    "def evaluate(X, y, metrics, models):\n",
    "\n",
    "    results = {}\n",
    "\n",
    "    for model in models.keys():\n",
    "        results[model] = []\n",
    "\n",
    "    for model_name, model in models.items():\n",
    "        \n",
    "        y_hat = model.predict(X)\n",
    "        \n",
    "        for metric_name, metric in metrics.items():\n",
    "            score = metric(y, y_hat)\n",
    "            results[model_name].append(score)\n",
    "\n",
    "    return pd.DataFrame(results, index=metrics.keys()).transpose()"
   ]
  },
  {
   "cell_type": "code",
   "execution_count": 67,
   "id": "af355a16-e290-4140-b14f-c14409bb084c",
   "metadata": {},
   "outputs": [
    {
     "data": {
      "text/html": [
       "<div>\n",
       "<style scoped>\n",
       "    .dataframe tbody tr th:only-of-type {\n",
       "        vertical-align: middle;\n",
       "    }\n",
       "\n",
       "    .dataframe tbody tr th {\n",
       "        vertical-align: top;\n",
       "    }\n",
       "\n",
       "    .dataframe thead th {\n",
       "        text-align: right;\n",
       "    }\n",
       "</style>\n",
       "<table border=\"1\" class=\"dataframe\">\n",
       "  <thead>\n",
       "    <tr style=\"text-align: right;\">\n",
       "      <th></th>\n",
       "      <th>accuracy</th>\n",
       "      <th>f1 score</th>\n",
       "      <th>precision</th>\n",
       "      <th>recall</th>\n",
       "    </tr>\n",
       "  </thead>\n",
       "  <tbody>\n",
       "    <tr>\n",
       "      <th>MLP Classifier + Bag of words + Space Based Tokenization</th>\n",
       "      <td>0.794178</td>\n",
       "      <td>0.792677</td>\n",
       "      <td>0.798888</td>\n",
       "      <td>0.788664</td>\n",
       "    </tr>\n",
       "    <tr>\n",
       "      <th>MLP Classifier + TfIdf + Space Based Tokenization</th>\n",
       "      <td>0.807627</td>\n",
       "      <td>0.805861</td>\n",
       "      <td>0.811721</td>\n",
       "      <td>0.801969</td>\n",
       "    </tr>\n",
       "    <tr>\n",
       "      <th>MLP Classifier + One Hot + Space Based Tokenization</th>\n",
       "      <td>0.791624</td>\n",
       "      <td>0.789802</td>\n",
       "      <td>0.796188</td>\n",
       "      <td>0.786075</td>\n",
       "    </tr>\n",
       "    <tr>\n",
       "      <th>MLP Ckassifier + Bag of words + WordPiece Tokenization</th>\n",
       "      <td>0.769663</td>\n",
       "      <td>0.768077</td>\n",
       "      <td>0.774199</td>\n",
       "      <td>0.764098</td>\n",
       "    </tr>\n",
       "    <tr>\n",
       "      <th>MLP Ckassifier + TfIdf + WordPiece Tokenization</th>\n",
       "      <td>0.777154</td>\n",
       "      <td>0.775518</td>\n",
       "      <td>0.788336</td>\n",
       "      <td>0.768762</td>\n",
       "    </tr>\n",
       "    <tr>\n",
       "      <th>MLP Classifier + One hot + WordPiece Tokenization</th>\n",
       "      <td>0.775111</td>\n",
       "      <td>0.773856</td>\n",
       "      <td>0.778990</td>\n",
       "      <td>0.770380</td>\n",
       "    </tr>\n",
       "    <tr>\n",
       "      <th>MLP Classifier + Bag of words + Rule Based Tokenization</th>\n",
       "      <td>0.791284</td>\n",
       "      <td>0.789078</td>\n",
       "      <td>0.799472</td>\n",
       "      <td>0.783567</td>\n",
       "    </tr>\n",
       "    <tr>\n",
       "      <th>MLP Classifier + TfIdf + Rule Based Tokenization</th>\n",
       "      <td>0.799796</td>\n",
       "      <td>0.798756</td>\n",
       "      <td>0.800740</td>\n",
       "      <td>0.798554</td>\n",
       "    </tr>\n",
       "    <tr>\n",
       "      <th>MLP Classifier + One hot + Rule Based Tokenization</th>\n",
       "      <td>0.789241</td>\n",
       "      <td>0.786963</td>\n",
       "      <td>0.798203</td>\n",
       "      <td>0.780910</td>\n",
       "    </tr>\n",
       "  </tbody>\n",
       "</table>\n",
       "</div>"
      ],
      "text/plain": [
       "                                                    accuracy  f1 score  \\\n",
       "MLP Classifier + Bag of words + Space Based Tok...  0.794178  0.792677   \n",
       "MLP Classifier + TfIdf + Space Based Tokenization   0.807627  0.805861   \n",
       "MLP Classifier + One Hot + Space Based Tokeniza...  0.791624  0.789802   \n",
       "MLP Ckassifier + Bag of words + WordPiece Token...  0.769663  0.768077   \n",
       "MLP Ckassifier + TfIdf + WordPiece Tokenization     0.777154  0.775518   \n",
       "MLP Classifier + One hot + WordPiece Tokenization   0.775111  0.773856   \n",
       "MLP Classifier + Bag of words + Rule Based Toke...  0.791284  0.789078   \n",
       "MLP Classifier + TfIdf + Rule Based Tokenization    0.799796  0.798756   \n",
       "MLP Classifier + One hot + Rule Based Tokenization  0.789241  0.786963   \n",
       "\n",
       "                                                    precision    recall  \n",
       "MLP Classifier + Bag of words + Space Based Tok...   0.798888  0.788664  \n",
       "MLP Classifier + TfIdf + Space Based Tokenization    0.811721  0.801969  \n",
       "MLP Classifier + One Hot + Space Based Tokeniza...   0.796188  0.786075  \n",
       "MLP Ckassifier + Bag of words + WordPiece Token...   0.774199  0.764098  \n",
       "MLP Ckassifier + TfIdf + WordPiece Tokenization      0.788336  0.768762  \n",
       "MLP Classifier + One hot + WordPiece Tokenization    0.778990  0.770380  \n",
       "MLP Classifier + Bag of words + Rule Based Toke...   0.799472  0.783567  \n",
       "MLP Classifier + TfIdf + Rule Based Tokenization     0.800740  0.798554  \n",
       "MLP Classifier + One hot + Rule Based Tokenization   0.798203  0.780910  "
      ]
     },
     "execution_count": 67,
     "metadata": {},
     "output_type": "execute_result"
    }
   ],
   "source": [
    "evaluate(X_test,y_test,metrics, models)"
   ]
  },
  {
   "cell_type": "markdown",
   "id": "eef80d65-dd91-4d1c-b472-89966edfb2c6",
   "metadata": {},
   "source": [
    "<div id=\"word_embeddings\" >\n",
    "    <h3>Word Embeddings</h3>\n",
    "</div>\n",
    "\n",
    "[Back to top](#top)"
   ]
  },
  {
   "cell_type": "code",
   "execution_count": 68,
   "id": "fdd91bee-ecf2-4f37-b944-d222d8bfe0d7",
   "metadata": {},
   "outputs": [],
   "source": [
    "def make_vectorizer(func, print_ = True):\n",
    "\n",
    "    def transform(docs):\n",
    "\n",
    "        if print_:\n",
    "            print(\"Begin Vectorization\")\n",
    "        \n",
    "        if isinstance(docs, pd.Series):\n",
    "            docs = docs.values\n",
    "\n",
    "        transformed_docs = []\n",
    "\n",
    "        for doc in docs:\n",
    "            transformed_docs.append(func(doc))\n",
    "\n",
    "        if print_:\n",
    "            print(\"End Vectorization\")\n",
    "            \n",
    "        return np.array(transformed_docs)\n",
    "\n",
    "    return FunctionTransformer(func=transform)"
   ]
  },
  {
   "cell_type": "markdown",
   "id": "ae10a599-b7b6-421a-bd00-015c053aaf94",
   "metadata": {},
   "source": [
    "<div id=\"word2vec\" >\n",
    "    <h4>Word2Vec</h4>\n",
    "</div>\n",
    "\n",
    "[Back to top](#top)"
   ]
  },
  {
   "cell_type": "code",
   "execution_count": 69,
   "id": "78653d4a-15e9-44b8-b8a6-16c789a1296e",
   "metadata": {},
   "outputs": [
    {
     "data": {
      "application/vnd.jupyter.widget-view+json": {
       "model_id": "fff29dcc9cae4a62bf1235c5ccc536c4",
       "version_major": 2,
       "version_minor": 0
      },
      "text/plain": [
       "  0%|          | 0/19579 [00:00<?, ?it/s]"
      ]
     },
     "metadata": {},
     "output_type": "display_data"
    }
   ],
   "source": [
    "data = df['processed_text'].progress_apply(word_tokenize)"
   ]
  },
  {
   "cell_type": "markdown",
   "id": "d125043e-4025-40c8-b30f-f219ddbd46de",
   "metadata": {},
   "source": [
    "- Continuous Bag of words"
   ]
  },
  {
   "cell_type": "code",
   "execution_count": 70,
   "id": "fc7039d5-fb90-4a19-98db-8bd7c4565b6f",
   "metadata": {},
   "outputs": [],
   "source": [
    "cbow = Word2Vec(data, min_count=1,vector_size=100, window=5)"
   ]
  },
  {
   "cell_type": "code",
   "execution_count": 71,
   "id": "589a56f2-829b-4ebf-b50d-d7db71a64697",
   "metadata": {},
   "outputs": [],
   "source": [
    "def text2CBOW(text):\n",
    "    \n",
    "    if len(text) == 0:\n",
    "        return np.zeros((cbow.vector_size,))\n",
    "\n",
    "    tokens = word_tokenize(text)\n",
    "    return cbow.wv.get_mean_vector(tokens)"
   ]
  },
  {
   "cell_type": "markdown",
   "id": "a91f72cf-cf0b-4999-b40f-0828aefeb163",
   "metadata": {},
   "source": [
    "- Skip n-grams"
   ]
  },
  {
   "cell_type": "code",
   "execution_count": 72,
   "id": "5d090cd3-b1de-4f89-8535-2f18ae4ca7ec",
   "metadata": {},
   "outputs": [],
   "source": [
    "sg = Word2Vec(data, min_count=1,vector_size=100, window=5, sg=1)"
   ]
  },
  {
   "cell_type": "code",
   "execution_count": 73,
   "id": "23d76482-2298-4036-988d-e25f97d992f8",
   "metadata": {},
   "outputs": [],
   "source": [
    "def text2SG(text):\n",
    "    \n",
    "    if len(text) == 0:\n",
    "        return np.zeros((cbow.vector_size,))\n",
    "\n",
    "    tokens = word_tokenize(text)\n",
    "    return sg.wv.get_mean_vector(tokens)"
   ]
  },
  {
   "cell_type": "markdown",
   "id": "eb3073b1-8fa3-4e26-9839-c7c3d23f9e5e",
   "metadata": {},
   "source": [
    "<div id=\"glove\" >\n",
    "    <h4>Glove</h4>\n",
    "</div>\n",
    "\n",
    "[Back to top](#top)"
   ]
  },
  {
   "cell_type": "code",
   "execution_count": 74,
   "id": "13c84bfc-daa6-447b-aa38-a86ea84f119b",
   "metadata": {},
   "outputs": [],
   "source": [
    "def load_vectors(path=os.path.join(\".\",\"glove.6B\",\"glove.6B.100d.txt\")):\n",
    "\n",
    "    embeddings = {}\n",
    "\n",
    "    with open(path, 'r', encoding=\"utf-8\") as f:\n",
    "        for line in f:\n",
    "            values = line.split()\n",
    "            word = values[0]\n",
    "            vec = np.asarray(values[1:], \"float32\")\n",
    "            embeddings[word] = vec\n",
    "\n",
    "    return embeddings"
   ]
  },
  {
   "cell_type": "code",
   "execution_count": 75,
   "id": "0a15cf66-b937-413e-a334-15f11eef3e0c",
   "metadata": {},
   "outputs": [],
   "source": [
    "embeddings = load_vectors()"
   ]
  },
  {
   "cell_type": "code",
   "execution_count": 76,
   "id": "5c8b61bc-52db-4036-9d48-d92ed0ef694f",
   "metadata": {},
   "outputs": [],
   "source": [
    "def text2Glove(text):\n",
    "    \n",
    "    tokens = word_tokenize(text)\n",
    "\n",
    "    key = next(iter(embeddings.keys()))\n",
    "    dim = embeddings[key].shape\n",
    "    default_vec = np.zeros(shape=(dim))\n",
    "\n",
    "    mean_vec = default_vec\n",
    "\n",
    "    for token in tokens:\n",
    "        mean_vec += embeddings.get(token, default_vec)\n",
    "\n",
    "    return mean_vec / max(len(tokens), 1)"
   ]
  },
  {
   "cell_type": "markdown",
   "id": "e4bfcdfc-7428-43a5-be87-f1862800644a",
   "metadata": {},
   "source": [
    "<div id=\"fast_text\" >\n",
    "    <h4>Fast Text</h4>\n",
    "</div>\n",
    "\n",
    "[Back to top](#top)"
   ]
  },
  {
   "cell_type": "code",
   "execution_count": 77,
   "id": "3f7958d1-dc59-4998-ab7f-ea2086e79634",
   "metadata": {},
   "outputs": [],
   "source": [
    "fs = FastText(data, min_count=1,vector_size=100,window=5)"
   ]
  },
  {
   "cell_type": "code",
   "execution_count": 78,
   "id": "674f7434-1654-4341-ba5e-0e5d3e31839c",
   "metadata": {},
   "outputs": [],
   "source": [
    "def text2FS(text):\n",
    "    \n",
    "    tokens = word_tokenize(text)\n",
    "\n",
    "    key = next(iter(embeddings.keys()))\n",
    "    dim = embeddings[key].shape\n",
    "    default_vec = np.zeros(shape=(dim))\n",
    "\n",
    "    mean_vec = default_vec\n",
    "\n",
    "    for token in tokens:\n",
    "        mean_vec += fs.wv[token]\n",
    "\n",
    "    return mean_vec / max(len(tokens), 1)"
   ]
  },
  {
   "cell_type": "markdown",
   "id": "9ddb79cd-99f9-4cef-b182-5dc79f938e3d",
   "metadata": {},
   "source": [
    "<div  id=\"training_on_embeddings\" >\n",
    "    <h3>Training on word embeddings</h3>\n",
    "</div>\n",
    "\n",
    "[Back to top](#top)"
   ]
  },
  {
   "cell_type": "markdown",
   "id": "4271ce65-330e-4b14-9563-752626b486b6",
   "metadata": {},
   "source": [
    "- define the models"
   ]
  },
  {
   "cell_type": "code",
   "execution_count": 79,
   "id": "5b4f9ec2-a619-4025-b4db-c0875e1b112c",
   "metadata": {},
   "outputs": [],
   "source": [
    "wv_models = {}"
   ]
  },
  {
   "cell_type": "code",
   "execution_count": 80,
   "id": "13472956-4b61-44de-94dc-8b7b3de323ad",
   "metadata": {},
   "outputs": [],
   "source": [
    "wv_models[\"MLP Classifier + Continuous Bag Of Words\"] = Pipeline(steps=[\n",
    "    (\"Vectorizer\", make_vectorizer(text2CBOW)),\n",
    "    (\"Scaler\", StandardScaler()),\n",
    "    (\"Estimator\", MLPClassifier(hidden_layer_sizes=(32,)))\n",
    "])"
   ]
  },
  {
   "cell_type": "code",
   "execution_count": 81,
   "id": "c2c57de1-c841-4882-a066-30afcb50f9e4",
   "metadata": {},
   "outputs": [],
   "source": [
    "wv_models[\"MLP Classifier + Skip n-grams\"] = Pipeline(steps=[\n",
    "    (\"Vectorizer\", make_vectorizer(text2SG)),\n",
    "    (\"Scaler\", StandardScaler()),\n",
    "    (\"Estimator\",MLPClassifier(hidden_layer_sizes=(32,)))\n",
    "])"
   ]
  },
  {
   "cell_type": "code",
   "execution_count": 82,
   "id": "acb9f630-217b-4d9b-b4b6-c9e171cba301",
   "metadata": {},
   "outputs": [],
   "source": [
    "wv_models[\"MLP Classifier + Glove\"] = Pipeline(steps=[\n",
    "    (\"Vectorizer\", make_vectorizer(text2Glove)),\n",
    "    (\"Scaler\", StandardScaler()),\n",
    "    (\"Estimator\", MLPClassifier(hidden_layer_sizes=(32,)))\n",
    "])"
   ]
  },
  {
   "cell_type": "code",
   "execution_count": 83,
   "id": "9eb84dd6-2748-4e0e-808c-78eae4919522",
   "metadata": {},
   "outputs": [],
   "source": [
    "wv_models[\"MLP Classifier + Fast Text\"] = Pipeline(steps=[\n",
    "    (\"Vectorizer\", make_vectorizer(text2FS)),\n",
    "    (\"Scaler\", StandardScaler()),\n",
    "    (\"Estimator\", MLPClassifier(hidden_layer_sizes=(32,)))\n",
    "])"
   ]
  },
  {
   "cell_type": "markdown",
   "id": "ea1638bb-b04e-4703-9005-d0cbbdb42ddb",
   "metadata": {},
   "source": [
    "- train the models"
   ]
  },
  {
   "cell_type": "code",
   "execution_count": 84,
   "id": "55d87f94-1e91-404e-a2e5-1561babc2848",
   "metadata": {},
   "outputs": [
    {
     "name": "stdout",
     "output_type": "stream",
     "text": [
      "--- MLP Classifier + Continuous Bag Of Words ---\n",
      "Begin Vectorization\n",
      "End Vectorization\n",
      "Begin Vectorization\n",
      "End Vectorization\n",
      "--- MLP Classifier + Skip n-grams ---\n",
      "Begin Vectorization\n",
      "End Vectorization\n",
      "Begin Vectorization\n",
      "End Vectorization\n",
      "--- MLP Classifier + Glove ---\n",
      "Begin Vectorization\n",
      "End Vectorization\n",
      "Begin Vectorization\n",
      "End Vectorization\n",
      "--- MLP Classifier + Fast Text ---\n",
      "Begin Vectorization\n",
      "End Vectorization\n",
      "Begin Vectorization\n",
      "End Vectorization\n"
     ]
    },
    {
     "data": {
      "text/html": [
       "<div>\n",
       "<style scoped>\n",
       "    .dataframe tbody tr th:only-of-type {\n",
       "        vertical-align: middle;\n",
       "    }\n",
       "\n",
       "    .dataframe tbody tr th {\n",
       "        vertical-align: top;\n",
       "    }\n",
       "\n",
       "    .dataframe thead th {\n",
       "        text-align: right;\n",
       "    }\n",
       "</style>\n",
       "<table border=\"1\" class=\"dataframe\">\n",
       "  <thead>\n",
       "    <tr style=\"text-align: right;\">\n",
       "      <th></th>\n",
       "      <th>accuracy</th>\n",
       "      <th>f1 score</th>\n",
       "      <th>precision</th>\n",
       "      <th>recall</th>\n",
       "      <th>fit time (in seconds)</th>\n",
       "    </tr>\n",
       "  </thead>\n",
       "  <tbody>\n",
       "    <tr>\n",
       "      <th>MLP Classifier + Continuous Bag Of Words</th>\n",
       "      <td>0.725648</td>\n",
       "      <td>0.722777</td>\n",
       "      <td>0.724984</td>\n",
       "      <td>0.721174</td>\n",
       "      <td>26.291</td>\n",
       "    </tr>\n",
       "    <tr>\n",
       "      <th>MLP Classifier + Skip n-grams</th>\n",
       "      <td>0.773440</td>\n",
       "      <td>0.773157</td>\n",
       "      <td>0.772500</td>\n",
       "      <td>0.773881</td>\n",
       "      <td>25.197</td>\n",
       "    </tr>\n",
       "    <tr>\n",
       "      <th>MLP Classifier + Glove</th>\n",
       "      <td>0.403575</td>\n",
       "      <td>0.191832</td>\n",
       "      <td>0.467844</td>\n",
       "      <td>0.333412</td>\n",
       "      <td>4.150</td>\n",
       "    </tr>\n",
       "    <tr>\n",
       "      <th>MLP Classifier + Fast Text</th>\n",
       "      <td>0.629478</td>\n",
       "      <td>0.619941</td>\n",
       "      <td>0.633250</td>\n",
       "      <td>0.616574</td>\n",
       "      <td>20.589</td>\n",
       "    </tr>\n",
       "  </tbody>\n",
       "</table>\n",
       "</div>"
      ],
      "text/plain": [
       "                                          accuracy  f1 score  precision  \\\n",
       "MLP Classifier + Continuous Bag Of Words  0.725648  0.722777   0.724984   \n",
       "MLP Classifier + Skip n-grams             0.773440  0.773157   0.772500   \n",
       "MLP Classifier + Glove                    0.403575  0.191832   0.467844   \n",
       "MLP Classifier + Fast Text                0.629478  0.619941   0.633250   \n",
       "\n",
       "                                            recall  fit time (in seconds)  \n",
       "MLP Classifier + Continuous Bag Of Words  0.721174                 26.291  \n",
       "MLP Classifier + Skip n-grams             0.773881                 25.197  \n",
       "MLP Classifier + Glove                    0.333412                  4.150  \n",
       "MLP Classifier + Fast Text                0.616574                 20.589  "
      ]
     },
     "execution_count": 84,
     "metadata": {},
     "output_type": "execute_result"
    }
   ],
   "source": [
    "train(X_train,y_train,metrics,wv_models)"
   ]
  },
  {
   "cell_type": "code",
   "execution_count": 85,
   "id": "7b4c7edd-adb5-4a2f-9e44-8a87e4e849a7",
   "metadata": {},
   "outputs": [
    {
     "name": "stdout",
     "output_type": "stream",
     "text": [
      "Begin Vectorization\n",
      "End Vectorization\n",
      "Begin Vectorization\n",
      "End Vectorization\n",
      "Begin Vectorization\n",
      "End Vectorization\n",
      "Begin Vectorization\n",
      "End Vectorization\n"
     ]
    },
    {
     "data": {
      "text/html": [
       "<div>\n",
       "<style scoped>\n",
       "    .dataframe tbody tr th:only-of-type {\n",
       "        vertical-align: middle;\n",
       "    }\n",
       "\n",
       "    .dataframe tbody tr th {\n",
       "        vertical-align: top;\n",
       "    }\n",
       "\n",
       "    .dataframe thead th {\n",
       "        text-align: right;\n",
       "    }\n",
       "</style>\n",
       "<table border=\"1\" class=\"dataframe\">\n",
       "  <thead>\n",
       "    <tr style=\"text-align: right;\">\n",
       "      <th></th>\n",
       "      <th>accuracy</th>\n",
       "      <th>f1 score</th>\n",
       "      <th>precision</th>\n",
       "      <th>recall</th>\n",
       "    </tr>\n",
       "  </thead>\n",
       "  <tbody>\n",
       "    <tr>\n",
       "      <th>MLP Classifier + Continuous Bag Of Words</th>\n",
       "      <td>0.536261</td>\n",
       "      <td>0.531248</td>\n",
       "      <td>0.532149</td>\n",
       "      <td>0.530967</td>\n",
       "    </tr>\n",
       "    <tr>\n",
       "      <th>MLP Classifier + Skip n-grams</th>\n",
       "      <td>0.694757</td>\n",
       "      <td>0.694340</td>\n",
       "      <td>0.694340</td>\n",
       "      <td>0.694595</td>\n",
       "    </tr>\n",
       "    <tr>\n",
       "      <th>MLP Classifier + Glove</th>\n",
       "      <td>0.403473</td>\n",
       "      <td>0.191655</td>\n",
       "      <td>0.134491</td>\n",
       "      <td>0.333333</td>\n",
       "    </tr>\n",
       "    <tr>\n",
       "      <th>MLP Classifier + Fast Text</th>\n",
       "      <td>0.595165</td>\n",
       "      <td>0.584620</td>\n",
       "      <td>0.600438</td>\n",
       "      <td>0.581706</td>\n",
       "    </tr>\n",
       "  </tbody>\n",
       "</table>\n",
       "</div>"
      ],
      "text/plain": [
       "                                          accuracy  f1 score  precision  \\\n",
       "MLP Classifier + Continuous Bag Of Words  0.536261  0.531248   0.532149   \n",
       "MLP Classifier + Skip n-grams             0.694757  0.694340   0.694340   \n",
       "MLP Classifier + Glove                    0.403473  0.191655   0.134491   \n",
       "MLP Classifier + Fast Text                0.595165  0.584620   0.600438   \n",
       "\n",
       "                                            recall  \n",
       "MLP Classifier + Continuous Bag Of Words  0.530967  \n",
       "MLP Classifier + Skip n-grams             0.694595  \n",
       "MLP Classifier + Glove                    0.333333  \n",
       "MLP Classifier + Fast Text                0.581706  "
      ]
     },
     "execution_count": 85,
     "metadata": {},
     "output_type": "execute_result"
    }
   ],
   "source": [
    "evaluate(X_test,y_test,metrics,wv_models)"
   ]
  }
 ],
 "metadata": {
  "kernelspec": {
   "display_name": "Python 3 (ipykernel)",
   "language": "python",
   "name": "python3"
  },
  "language_info": {
   "codemirror_mode": {
    "name": "ipython",
    "version": 3
   },
   "file_extension": ".py",
   "mimetype": "text/x-python",
   "name": "python",
   "nbconvert_exporter": "python",
   "pygments_lexer": "ipython3",
   "version": "3.11.7"
  }
 },
 "nbformat": 4,
 "nbformat_minor": 5
}
