{
 "cells": [
  {
   "cell_type": "markdown",
   "id": "b56007a0-c867-403b-9024-cdd05c56c8f3",
   "metadata": {},
   "source": [
    "<div id=\"top\" >\n",
    "    <h3>Outline</h3>\n",
    "</div>\n",
    "\n",
    "- [Necessary Packages](#necessary_packages)\n",
    "- [Global Parameters](#global_parameters)\n",
    "- [Download the dataset](#download_the_dataset)\n",
    "- [Load the dataset](#load_the_dataset)\n",
    "- [Getting familiar with the data](#getting_familiar_with_the_data)\n",
    "- [Text Cleaning](#text_cleaning)\n",
    "- [Data splitting](#data_splitting)\n",
    "- [Training](#training)"
   ]
  },
  {
   "cell_type": "markdown",
   "id": "e66a8be9-918b-490b-851d-b942adc2f319",
   "metadata": {},
   "source": [
    "<div id=\"necessary_packages\" >\n",
    "    <h3>Necessary Packages</h3>\n",
    "</div>\n",
    "\n",
    "[Back to top](#top)"
   ]
  },
  {
   "cell_type": "code",
   "execution_count": 26,
   "id": "83d34b42-0f21-48f3-8e8c-49d298251d20",
   "metadata": {},
   "outputs": [],
   "source": [
    "import pandas as pd\n",
    "import seaborn as sns\n",
    "import matplotlib.pyplot as plt\n",
    "import os\n",
    "import requests\n",
    "import re\n",
    "import string\n",
    "import warnings\n",
    "import torch\n",
    "import numpy as np\n",
    "import random\n",
    "import seaborn as sns\n",
    "from torchviz import make_dot\n",
    "from tqdm.notebook import tqdm\n",
    "from textblob import Word\n",
    "from unidecode import unidecode\n",
    "from bs4 import BeautifulSoup\n",
    "from nltk import word_tokenize\n",
    "from nltk.corpus import stopwords\n",
    "from nltk.stem import SnowballStemmer\n",
    "from sklearn.model_selection import train_test_split\n",
    "from sklearn.preprocessing import LabelEncoder\n",
    "from typing import Callable,Optional\n",
    "from torch.utils.data import DataLoader,Dataset\n",
    "from trainer import Trainer\n",
    "from torch.optim import Adam\n",
    "from torchmetrics import Accuracy,F1Score,Precision,Recall,AUROC,Metric"
   ]
  },
  {
   "cell_type": "code",
   "execution_count": 27,
   "id": "e2b279b9-a913-4861-a4d5-043cd25c4598",
   "metadata": {},
   "outputs": [],
   "source": [
    "tqdm.pandas()\n",
    "warnings.filterwarnings(\"ignore\")"
   ]
  },
  {
   "cell_type": "markdown",
   "id": "58803d12-8f5d-424f-8ccc-464d17ef65fb",
   "metadata": {},
   "source": [
    "<div id=\"global_parameters\" >\n",
    "    <h3>Global Parameters</h3>\n",
    "</div>\n",
    "\n",
    "[Back to top](#top)"
   ]
  },
  {
   "cell_type": "code",
   "execution_count": 28,
   "id": "fc2e8961-d166-47e6-b98a-02d545499319",
   "metadata": {},
   "outputs": [],
   "source": [
    "### General\n",
    "DOWNLOAD_DATASET = False\n",
    "DATASET_URL = \"https://raw.githubusercontent.com/GU4243-ADS/spring2018-project1-ginnyqg/master/data/spooky.csv\"\n",
    "DATA_DIR = os.path.join(\".\",\"data\")\n",
    "DATASET_PATH = os.path.join(DATA_DIR, \"spooky.csv\")\n",
    "WEIGHTS_DIR = os.path.join(\".\",\"weights\")\n",
    "HISTORIES_DIR = os.path.join(\".\",\"histories\")\n",
    "\n",
    "### Preprocessing parameters\n",
    "MIN_FREQ = 1\n",
    "\n",
    "### Training params\n",
    "DEVICE = 'cuda' if torch.cuda.is_available() else \"cpu\"\n",
    "LEARNING_RATE = 0.001\n",
    "EPOCHS = 100\n",
    "HIDDEN_DIM = 64\n",
    "BATCH_SIZE = 256"
   ]
  },
  {
   "cell_type": "markdown",
   "id": "cff8f55d",
   "metadata": {},
   "source": [
    "### Reproducibitlity"
   ]
  },
  {
   "cell_type": "code",
   "execution_count": 29,
   "id": "67582ed8",
   "metadata": {},
   "outputs": [],
   "source": [
    "torch.cuda.manual_seed_all(0)\n",
    "np.random.seed(0)\n",
    "random.seed(0)"
   ]
  },
  {
   "cell_type": "markdown",
   "id": "ef570eaa-cff4-414d-b76c-71cf73492b0b",
   "metadata": {},
   "source": [
    "<div id=\"download_the_dataset\" >\n",
    "    <h3>Download the dataset</h3>\n",
    "</div>\n",
    "\n",
    "[Back to top](#top)"
   ]
  },
  {
   "cell_type": "code",
   "execution_count": 30,
   "id": "799a7596-e92c-4b16-b6b6-c22bcaaf5496",
   "metadata": {},
   "outputs": [
    {
     "name": "stdout",
     "output_type": "stream",
     "text": [
      "Dataset download is deactivated\n"
     ]
    }
   ],
   "source": [
    "if DOWNLOAD_DATASET:\n",
    "    response = requests.get(DATASET_URL)\n",
    "    content = response.text\n",
    "    if not os.path.isdir(DATA_DIR):\n",
    "        os.mkdir(DATA_DIR)\n",
    "    with open(DATASET_PATH, \"w\") as f:\n",
    "        f.write(content)\n",
    "else:\n",
    "    print(\"Dataset download is deactivated\")"
   ]
  },
  {
   "cell_type": "markdown",
   "id": "e2dbb130-5fc8-44c2-a014-c180f8388cf5",
   "metadata": {},
   "source": [
    "<div id=\"load_the_dataset\" >\n",
    "    <h3>Load the dataset</h3>\n",
    "</div>\n",
    "\n",
    "[Back to top](#top)"
   ]
  },
  {
   "cell_type": "code",
   "execution_count": 31,
   "id": "07a93826-88fb-4435-ab06-f3460e788ccb",
   "metadata": {},
   "outputs": [],
   "source": [
    "df = pd.read_csv(DATASET_PATH)"
   ]
  },
  {
   "cell_type": "markdown",
   "id": "69add534-66ff-4756-bc85-1fe09cc93e40",
   "metadata": {},
   "source": [
    "<div id=\"getting_familiar_with_the_data\" >\n",
    "    <h3>Getting familiar with the data</h3>\n",
    "</div>\n",
    "\n",
    "[Back to top](#top)"
   ]
  },
  {
   "cell_type": "markdown",
   "id": "85330eaf-6b4a-41f4-8cb3-81b8047756bd",
   "metadata": {},
   "source": [
    "- show the columns of the dataframe"
   ]
  },
  {
   "cell_type": "code",
   "execution_count": 32,
   "id": "dffa6357-f028-4228-86e1-5a927844b355",
   "metadata": {},
   "outputs": [
    {
     "data": {
      "text/plain": [
       "Index(['id', 'text', 'author'], dtype='object')"
      ]
     },
     "execution_count": 32,
     "metadata": {},
     "output_type": "execute_result"
    }
   ],
   "source": [
    "df.columns"
   ]
  },
  {
   "cell_type": "markdown",
   "id": "a3f01ca7-b4e9-48da-9f8c-ae5876c03651",
   "metadata": {},
   "source": [
    "- Check the dimensions of the dataframe"
   ]
  },
  {
   "cell_type": "code",
   "execution_count": 33,
   "id": "f0b18c32-70e6-4db7-a3a1-c971f22ab5aa",
   "metadata": {},
   "outputs": [
    {
     "data": {
      "text/plain": [
       "(19579, 3)"
      ]
     },
     "execution_count": 33,
     "metadata": {},
     "output_type": "execute_result"
    }
   ],
   "source": [
    "df.shape"
   ]
  },
  {
   "cell_type": "markdown",
   "id": "fe51ed72-30d8-44f2-8b5b-3b3842d99176",
   "metadata": {},
   "source": [
    "- display the head and the tail of the dataframe"
   ]
  },
  {
   "cell_type": "code",
   "execution_count": 34,
   "id": "8284b0f9-3732-4ce2-915a-25db05fdde2e",
   "metadata": {},
   "outputs": [
    {
     "data": {
      "text/html": [
       "<div>\n",
       "<style scoped>\n",
       "    .dataframe tbody tr th:only-of-type {\n",
       "        vertical-align: middle;\n",
       "    }\n",
       "\n",
       "    .dataframe tbody tr th {\n",
       "        vertical-align: top;\n",
       "    }\n",
       "\n",
       "    .dataframe thead th {\n",
       "        text-align: right;\n",
       "    }\n",
       "</style>\n",
       "<table border=\"1\" class=\"dataframe\">\n",
       "  <thead>\n",
       "    <tr style=\"text-align: right;\">\n",
       "      <th></th>\n",
       "      <th>id</th>\n",
       "      <th>text</th>\n",
       "      <th>author</th>\n",
       "    </tr>\n",
       "  </thead>\n",
       "  <tbody>\n",
       "    <tr>\n",
       "      <th>0</th>\n",
       "      <td>id26305</td>\n",
       "      <td>This process, however, afforded me no means of...</td>\n",
       "      <td>EAP</td>\n",
       "    </tr>\n",
       "    <tr>\n",
       "      <th>1</th>\n",
       "      <td>id17569</td>\n",
       "      <td>It never once occurred to me that the fumbling...</td>\n",
       "      <td>HPL</td>\n",
       "    </tr>\n",
       "    <tr>\n",
       "      <th>2</th>\n",
       "      <td>id11008</td>\n",
       "      <td>In his left hand was a gold snuff box, from wh...</td>\n",
       "      <td>EAP</td>\n",
       "    </tr>\n",
       "    <tr>\n",
       "      <th>3</th>\n",
       "      <td>id27763</td>\n",
       "      <td>How lovely is spring As we looked from Windsor...</td>\n",
       "      <td>MWS</td>\n",
       "    </tr>\n",
       "    <tr>\n",
       "      <th>4</th>\n",
       "      <td>id12958</td>\n",
       "      <td>Finding nothing else, not even gold, the Super...</td>\n",
       "      <td>HPL</td>\n",
       "    </tr>\n",
       "  </tbody>\n",
       "</table>\n",
       "</div>"
      ],
      "text/plain": [
       "        id                                               text author\n",
       "0  id26305  This process, however, afforded me no means of...    EAP\n",
       "1  id17569  It never once occurred to me that the fumbling...    HPL\n",
       "2  id11008  In his left hand was a gold snuff box, from wh...    EAP\n",
       "3  id27763  How lovely is spring As we looked from Windsor...    MWS\n",
       "4  id12958  Finding nothing else, not even gold, the Super...    HPL"
      ]
     },
     "execution_count": 34,
     "metadata": {},
     "output_type": "execute_result"
    }
   ],
   "source": [
    "df.head()"
   ]
  },
  {
   "cell_type": "code",
   "execution_count": 35,
   "id": "c79d094d-52fd-4869-83b5-cacfe64ca053",
   "metadata": {},
   "outputs": [
    {
     "data": {
      "text/html": [
       "<div>\n",
       "<style scoped>\n",
       "    .dataframe tbody tr th:only-of-type {\n",
       "        vertical-align: middle;\n",
       "    }\n",
       "\n",
       "    .dataframe tbody tr th {\n",
       "        vertical-align: top;\n",
       "    }\n",
       "\n",
       "    .dataframe thead th {\n",
       "        text-align: right;\n",
       "    }\n",
       "</style>\n",
       "<table border=\"1\" class=\"dataframe\">\n",
       "  <thead>\n",
       "    <tr style=\"text-align: right;\">\n",
       "      <th></th>\n",
       "      <th>id</th>\n",
       "      <th>text</th>\n",
       "      <th>author</th>\n",
       "    </tr>\n",
       "  </thead>\n",
       "  <tbody>\n",
       "    <tr>\n",
       "      <th>19574</th>\n",
       "      <td>id17718</td>\n",
       "      <td>I could have fancied, while I looked at it, th...</td>\n",
       "      <td>EAP</td>\n",
       "    </tr>\n",
       "    <tr>\n",
       "      <th>19575</th>\n",
       "      <td>id08973</td>\n",
       "      <td>The lids clenched themselves together as if in...</td>\n",
       "      <td>EAP</td>\n",
       "    </tr>\n",
       "    <tr>\n",
       "      <th>19576</th>\n",
       "      <td>id05267</td>\n",
       "      <td>Mais il faut agir that is to say, a Frenchman ...</td>\n",
       "      <td>EAP</td>\n",
       "    </tr>\n",
       "    <tr>\n",
       "      <th>19577</th>\n",
       "      <td>id17513</td>\n",
       "      <td>For an item of news like this, it strikes us i...</td>\n",
       "      <td>EAP</td>\n",
       "    </tr>\n",
       "    <tr>\n",
       "      <th>19578</th>\n",
       "      <td>id00393</td>\n",
       "      <td>He laid a gnarled claw on my shoulder, and it ...</td>\n",
       "      <td>HPL</td>\n",
       "    </tr>\n",
       "  </tbody>\n",
       "</table>\n",
       "</div>"
      ],
      "text/plain": [
       "            id                                               text author\n",
       "19574  id17718  I could have fancied, while I looked at it, th...    EAP\n",
       "19575  id08973  The lids clenched themselves together as if in...    EAP\n",
       "19576  id05267  Mais il faut agir that is to say, a Frenchman ...    EAP\n",
       "19577  id17513  For an item of news like this, it strikes us i...    EAP\n",
       "19578  id00393  He laid a gnarled claw on my shoulder, and it ...    HPL"
      ]
     },
     "execution_count": 35,
     "metadata": {},
     "output_type": "execute_result"
    }
   ],
   "source": [
    "df.tail()"
   ]
  },
  {
   "cell_type": "markdown",
   "id": "1277e4f3-b4ff-4710-b266-c2f01b3dc949",
   "metadata": {},
   "source": [
    "- Check for missing values"
   ]
  },
  {
   "cell_type": "code",
   "execution_count": 36,
   "id": "72229e87-f102-4ab7-b354-ba9cccb80019",
   "metadata": {},
   "outputs": [
    {
     "data": {
      "text/plain": [
       "id        0\n",
       "text      0\n",
       "author    0\n",
       "dtype: int64"
      ]
     },
     "execution_count": 36,
     "metadata": {},
     "output_type": "execute_result"
    }
   ],
   "source": [
    "df.isna().sum()"
   ]
  },
  {
   "cell_type": "markdown",
   "id": "395c0116-602e-4bd8-a1dc-1cb29c8e47b2",
   "metadata": {},
   "source": [
    "- Checking for duplicates"
   ]
  },
  {
   "cell_type": "code",
   "execution_count": 37,
   "id": "bc22fc20-4fc8-4a75-96f6-d759b8bf7559",
   "metadata": {},
   "outputs": [
    {
     "data": {
      "text/plain": [
       "0"
      ]
     },
     "execution_count": 37,
     "metadata": {},
     "output_type": "execute_result"
    }
   ],
   "source": [
    "df.duplicated().sum()"
   ]
  },
  {
   "cell_type": "markdown",
   "id": "86ab5d6e",
   "metadata": {},
   "source": [
    "### Label encoding"
   ]
  },
  {
   "cell_type": "code",
   "execution_count": 38,
   "id": "79322bca",
   "metadata": {},
   "outputs": [
    {
     "data": {
      "text/html": [
       "<style>#sk-container-id-2 {color: black;}#sk-container-id-2 pre{padding: 0;}#sk-container-id-2 div.sk-toggleable {background-color: white;}#sk-container-id-2 label.sk-toggleable__label {cursor: pointer;display: block;width: 100%;margin-bottom: 0;padding: 0.3em;box-sizing: border-box;text-align: center;}#sk-container-id-2 label.sk-toggleable__label-arrow:before {content: \"▸\";float: left;margin-right: 0.25em;color: #696969;}#sk-container-id-2 label.sk-toggleable__label-arrow:hover:before {color: black;}#sk-container-id-2 div.sk-estimator:hover label.sk-toggleable__label-arrow:before {color: black;}#sk-container-id-2 div.sk-toggleable__content {max-height: 0;max-width: 0;overflow: hidden;text-align: left;background-color: #f0f8ff;}#sk-container-id-2 div.sk-toggleable__content pre {margin: 0.2em;color: black;border-radius: 0.25em;background-color: #f0f8ff;}#sk-container-id-2 input.sk-toggleable__control:checked~div.sk-toggleable__content {max-height: 200px;max-width: 100%;overflow: auto;}#sk-container-id-2 input.sk-toggleable__control:checked~label.sk-toggleable__label-arrow:before {content: \"▾\";}#sk-container-id-2 div.sk-estimator input.sk-toggleable__control:checked~label.sk-toggleable__label {background-color: #d4ebff;}#sk-container-id-2 div.sk-label input.sk-toggleable__control:checked~label.sk-toggleable__label {background-color: #d4ebff;}#sk-container-id-2 input.sk-hidden--visually {border: 0;clip: rect(1px 1px 1px 1px);clip: rect(1px, 1px, 1px, 1px);height: 1px;margin: -1px;overflow: hidden;padding: 0;position: absolute;width: 1px;}#sk-container-id-2 div.sk-estimator {font-family: monospace;background-color: #f0f8ff;border: 1px dotted black;border-radius: 0.25em;box-sizing: border-box;margin-bottom: 0.5em;}#sk-container-id-2 div.sk-estimator:hover {background-color: #d4ebff;}#sk-container-id-2 div.sk-parallel-item::after {content: \"\";width: 100%;border-bottom: 1px solid gray;flex-grow: 1;}#sk-container-id-2 div.sk-label:hover label.sk-toggleable__label {background-color: #d4ebff;}#sk-container-id-2 div.sk-serial::before {content: \"\";position: absolute;border-left: 1px solid gray;box-sizing: border-box;top: 0;bottom: 0;left: 50%;z-index: 0;}#sk-container-id-2 div.sk-serial {display: flex;flex-direction: column;align-items: center;background-color: white;padding-right: 0.2em;padding-left: 0.2em;position: relative;}#sk-container-id-2 div.sk-item {position: relative;z-index: 1;}#sk-container-id-2 div.sk-parallel {display: flex;align-items: stretch;justify-content: center;background-color: white;position: relative;}#sk-container-id-2 div.sk-item::before, #sk-container-id-2 div.sk-parallel-item::before {content: \"\";position: absolute;border-left: 1px solid gray;box-sizing: border-box;top: 0;bottom: 0;left: 50%;z-index: -1;}#sk-container-id-2 div.sk-parallel-item {display: flex;flex-direction: column;z-index: 1;position: relative;background-color: white;}#sk-container-id-2 div.sk-parallel-item:first-child::after {align-self: flex-end;width: 50%;}#sk-container-id-2 div.sk-parallel-item:last-child::after {align-self: flex-start;width: 50%;}#sk-container-id-2 div.sk-parallel-item:only-child::after {width: 0;}#sk-container-id-2 div.sk-dashed-wrapped {border: 1px dashed gray;margin: 0 0.4em 0.5em 0.4em;box-sizing: border-box;padding-bottom: 0.4em;background-color: white;}#sk-container-id-2 div.sk-label label {font-family: monospace;font-weight: bold;display: inline-block;line-height: 1.2em;}#sk-container-id-2 div.sk-label-container {text-align: center;}#sk-container-id-2 div.sk-container {/* jupyter's `normalize.less` sets `[hidden] { display: none; }` but bootstrap.min.css set `[hidden] { display: none !important; }` so we also need the `!important` here to be able to override the default hidden behavior on the sphinx rendered scikit-learn.org. See: https://github.com/scikit-learn/scikit-learn/issues/21755 */display: inline-block !important;position: relative;}#sk-container-id-2 div.sk-text-repr-fallback {display: none;}</style><div id=\"sk-container-id-2\" class=\"sk-top-container\"><div class=\"sk-text-repr-fallback\"><pre>LabelEncoder()</pre><b>In a Jupyter environment, please rerun this cell to show the HTML representation or trust the notebook. <br />On GitHub, the HTML representation is unable to render, please try loading this page with nbviewer.org.</b></div><div class=\"sk-container\" hidden><div class=\"sk-item\"><div class=\"sk-estimator sk-toggleable\"><input class=\"sk-toggleable__control sk-hidden--visually\" id=\"sk-estimator-id-2\" type=\"checkbox\" checked><label for=\"sk-estimator-id-2\" class=\"sk-toggleable__label sk-toggleable__label-arrow\">LabelEncoder</label><div class=\"sk-toggleable__content\"><pre>LabelEncoder()</pre></div></div></div></div></div>"
      ],
      "text/plain": [
       "LabelEncoder()"
      ]
     },
     "execution_count": 38,
     "metadata": {},
     "output_type": "execute_result"
    }
   ],
   "source": [
    "encoder = LabelEncoder()\n",
    "encoder.fit(df['author'])"
   ]
  },
  {
   "cell_type": "code",
   "execution_count": 39,
   "id": "21fe79f4",
   "metadata": {},
   "outputs": [],
   "source": [
    "df['author'] = encoder.transform(df['author'])"
   ]
  },
  {
   "cell_type": "markdown",
   "id": "1ed227a8",
   "metadata": {},
   "source": [
    "### Data Splitting"
   ]
  },
  {
   "cell_type": "code",
   "execution_count": 40,
   "id": "659fbdb7",
   "metadata": {},
   "outputs": [],
   "source": [
    "train_df, test_df = train_test_split(df, test_size=0.3, stratify=df['author'])"
   ]
  },
  {
   "cell_type": "markdown",
   "id": "b557a158-2d81-4167-a6b9-bd940320da90",
   "metadata": {},
   "source": [
    "<div id=\"text_cleaning\" >\n",
    "    <h3>Text Cleaning</h3>\n",
    "</div>\n",
    "\n",
    "[Back to top](#top)"
   ]
  },
  {
   "cell_type": "code",
   "execution_count": 41,
   "id": "7afcc37a",
   "metadata": {},
   "outputs": [],
   "source": [
    "class TextPreprocessor(Callable):\n",
    "\n",
    "    def __init__(self) -> None:\n",
    "        \n",
    "        self.rx = re.compile(r'([^\\W\\d_])\\1{2,}')\n",
    "        self.url_regex = \"((http|https)\\:\\/\\/)?[a-zA-Z0-9\\.\\/\\?\\:@\\-_=#]+\\.([a-zA-Z]){2,6}([a-zA-Z0-9\\.\\&\\/\\?\\:@\\-_=#])*\"\n",
    "        self.email_regex = r'\\b[A-Za-z0-9._%+-]+@[A-Za-z0-9.-]+\\.[A-Z|a-z]{2,}\\b'\n",
    "        self.spetial_chars = string.punctuation\n",
    "        self.escaped_chars = [re.escape(c) for c in self.spetial_chars]\n",
    "        self.spetial_chars_regex = re.compile(f\"({'|'.join(self.escaped_chars)})\")\n",
    "        self.eng_stopwords = set(stopwords.words(\"english\"))\n",
    "        self.stemmer = SnowballStemmer(language=\"english\")\n",
    "\n",
    "    def remove_reptitive_characters(self, text):\n",
    "        return re.sub(r'[^\\W\\d_]+', lambda x: Word(self.rx.sub(r'\\1\\1', x.group())).correct() if self.rx.search(x.group()) else x.group(), text)\n",
    "    \n",
    "    def normalaize_unicode_chars(self, text):\n",
    "        text = unidecode(text)\n",
    "        return text\n",
    "    \n",
    "    def remove_html_tags(self,text):\n",
    "        return re.sub(\" +\",\" \",BeautifulSoup(text, 'html.parser').get_text().replace(\"\\n\",\" \")).strip()\n",
    "    \n",
    "    def handle_special_entries(self, text):\n",
    "        text = re.sub(self.url_regex, \"[URL]\", text)\n",
    "        text = re.sub(self.email_regex, \"[EMAIL]\", text)\n",
    "        text = self.remove_html_tags(text)\n",
    "        return text\n",
    "    \n",
    "    def remove_punctuation(self, text):\n",
    "        return re.sub(self.spetial_chars_regex,\" \",text)\n",
    "    \n",
    "    def lower(self, text):\n",
    "        return text.lower()\n",
    "    \n",
    "    def remove_stopwords(self, text):\n",
    "        tokens = word_tokenize(text)\n",
    "        tokens = [token for token in tokens if token not in self.eng_stopwords]\n",
    "        return ' '.join(tokens)\n",
    "    \n",
    "    def stem(self, text):\n",
    "        tokens = word_tokenize(text)\n",
    "        tokens = [self.stemmer.stem(token) for token in tokens]\n",
    "        return ' '.join(tokens)\n",
    "\n",
    "    def __call__(self, text : str) -> str:\n",
    "        text = self.remove_reptitive_characters(text)\n",
    "        text = self.normalaize_unicode_chars(text)\n",
    "        text = self.handle_special_entries(text)\n",
    "        text = self.lower(text)\n",
    "        text = self.remove_punctuation(text)\n",
    "        text = self.remove_stopwords(text)\n",
    "        text = self.stem(text)\n",
    "        return text"
   ]
  },
  {
   "cell_type": "markdown",
   "id": "149f6c20",
   "metadata": {},
   "source": [
    "### Indexing and padding"
   ]
  },
  {
   "cell_type": "code",
   "execution_count": 42,
   "id": "70f69e9c",
   "metadata": {},
   "outputs": [],
   "source": [
    "class Tokenizer(Callable):\n",
    "\n",
    "    def __init__(self, \n",
    "        docs : list[str],\n",
    "        preprocessor : Optional[Callable] = None,\n",
    "        min_freq : int = 5,\n",
    "        pad_token : str = '<pad>',\n",
    "        sos_token : str = '<sos>',\n",
    "        eos_token : str = '<eos>',\n",
    "        unk_token : str = '<unk>',\n",
    "    ):\n",
    "        \n",
    "        self.min_freq = min_freq\n",
    "        self.preprocessor = preprocessor\n",
    "        self.pad_token = pad_token \n",
    "        self.sos_token = sos_token \n",
    "        self.eos_token = eos_token \n",
    "        self.unk_token = unk_token \n",
    "\n",
    "        self.freqs = {\n",
    "            pad_token : 0,\n",
    "            sos_token : 0,\n",
    "            eos_token : 0,\n",
    "            unk_token : 0\n",
    "        }\n",
    "\n",
    "        self.stoi = {\n",
    "            pad_token : 0,\n",
    "            sos_token : 1,\n",
    "            eos_token : 2,\n",
    "            unk_token : 3\n",
    "        }\n",
    "\n",
    "        self.itos = {\n",
    "            0 : pad_token,\n",
    "            1 : sos_token,\n",
    "            2 : eos_token,\n",
    "            3 : unk_token\n",
    "        }\n",
    "\n",
    "        i = 4\n",
    "\n",
    "        for doc in tqdm(docs):\n",
    "\n",
    "            doc = self._preprocess(doc)\n",
    "            tokenized_document = word_tokenize(doc)\n",
    "\n",
    "            for token in tokenized_document:\n",
    "\n",
    "                if token not in self.freqs.keys():\n",
    "                    self.freqs[token] = 1\n",
    "                else:\n",
    "                    self.freqs[token] += 1\n",
    "\n",
    "                if self.freqs[token] >= self.min_freq and token not in self.stoi.keys():\n",
    "\n",
    "                    self.stoi[token] = i\n",
    "                    self.itos[i] = token\n",
    "                    i += 1\n",
    "\n",
    "    def _preprocess(self, doc : str):\n",
    "\n",
    "        if self.preprocessor is None:\n",
    "            return doc\n",
    "        else:\n",
    "            return self.preprocessor(doc)\n",
    "\n",
    "    def __call__(self, doc : str) -> list[int]:\n",
    "\n",
    "        doc = self._preprocess(doc)\n",
    "        tokenized_document = word_tokenize(doc)\n",
    "        \n",
    "        sequence = [self.stoi.get(token, self.stoi[self.unk_token]) for token in tokenized_document]\n",
    "        sequence = [self.stoi[self.sos_token]] + sequence + [self.stoi[self.eos_token]]\n",
    "        sequence = torch.tensor(sequence)\n",
    "\n",
    "        return sequence"
   ]
  },
  {
   "cell_type": "code",
   "execution_count": 43,
   "id": "40e77473",
   "metadata": {},
   "outputs": [],
   "source": [
    "class Collate:\n",
    "\n",
    "    def __init__(self):\n",
    "        pass\n",
    "\n",
    "    def __call__(self, batch : list[tuple[torch.Tensor,torch.Tensor]]) -> tuple[torch.Tensor,torch.Tensor]:\n",
    "\n",
    "        docs = [row[0] for row in batch]\n",
    "        labels = torch.tensor([row[1] for row in batch])\n",
    "\n",
    "        maxlen = max([len(doc) for doc in docs])\n",
    "\n",
    "        docs = torch.nn.utils.rnn.pad_sequence(sequences=docs, batch_first=True)\n",
    "        docs_ = torch.zeros(size=(docs.size(0),maxlen)).type(torch.long)\n",
    "        docs_[:,:docs.size(1)] = docs\n",
    "\n",
    "        return docs_,labels"
   ]
  },
  {
   "cell_type": "markdown",
   "id": "4d3e00c6",
   "metadata": {},
   "source": [
    "### Data Loading"
   ]
  },
  {
   "cell_type": "code",
   "execution_count": 44,
   "id": "741210ab",
   "metadata": {},
   "outputs": [],
   "source": [
    "class SpookyDataset(Dataset):\n",
    "\n",
    "    def __init__(self, preprocessor : Optional[Callable],df : pd.DataFrame):\n",
    "        self.preprocessor = preprocessor\n",
    "        self.df = df\n",
    "\n",
    "    def __len__(self):\n",
    "        return self.df.shape[0]\n",
    "    \n",
    "    def __getitem__(self, index : int):\n",
    "\n",
    "        x = self.df['text'].iloc[index]\n",
    "        y = self.df['author'].iloc[index]\n",
    "\n",
    "        if self.preprocessor is not None:\n",
    "            x = self.preprocessor(x)\n",
    "\n",
    "        return x,y"
   ]
  },
  {
   "cell_type": "markdown",
   "id": "74627b6f",
   "metadata": {},
   "source": [
    "### Create data loaders"
   ]
  },
  {
   "cell_type": "code",
   "execution_count": 45,
   "id": "c282f9f0",
   "metadata": {},
   "outputs": [
    {
     "data": {
      "application/vnd.jupyter.widget-view+json": {
       "model_id": "8f5763e9eacf43a58b1962fb0b9eec0b",
       "version_major": 2,
       "version_minor": 0
      },
      "text/plain": [
       "  0%|          | 0/13705 [00:00<?, ?it/s]"
      ]
     },
     "metadata": {},
     "output_type": "display_data"
    }
   ],
   "source": [
    "preprocessor = TextPreprocessor()\n",
    "tokenizer = Tokenizer(train_df['text'].tolist(), preprocessor=preprocessor,min_freq=MIN_FREQ)"
   ]
  },
  {
   "cell_type": "code",
   "execution_count": 46,
   "id": "9982283b",
   "metadata": {},
   "outputs": [
    {
     "name": "stdout",
     "output_type": "stream",
     "text": [
      "13320\n"
     ]
    }
   ],
   "source": [
    "print(len(tokenizer.itos))"
   ]
  },
  {
   "cell_type": "code",
   "execution_count": 47,
   "id": "1cde74a7",
   "metadata": {},
   "outputs": [],
   "source": [
    "train_data = SpookyDataset(preprocessor=tokenizer,df=train_df)\n",
    "test_data = SpookyDataset(preprocessor=tokenizer,df=test_df)"
   ]
  },
  {
   "cell_type": "code",
   "execution_count": 48,
   "id": "79fdab2e",
   "metadata": {},
   "outputs": [
    {
     "name": "stdout",
     "output_type": "stream",
     "text": [
      "13705\n",
      "5874\n"
     ]
    }
   ],
   "source": [
    "print(len(train_data))\n",
    "print(len(test_data))"
   ]
  },
  {
   "cell_type": "code",
   "execution_count": 49,
   "id": "d8d490c0",
   "metadata": {},
   "outputs": [],
   "source": [
    "train_loader = DataLoader(dataset=train_data,batch_size=BATCH_SIZE,shuffle=True,collate_fn=Collate(),num_workers=4,prefetch_factor=2)\n",
    "test_loader = DataLoader(dataset=test_data,batch_size=BATCH_SIZE,shuffle=True,collate_fn=Collate(),num_workers=4,prefetch_factor=2)"
   ]
  },
  {
   "cell_type": "markdown",
   "id": "2709fd55",
   "metadata": {},
   "source": [
    "### Model"
   ]
  },
  {
   "cell_type": "code",
   "execution_count": 50,
   "id": "bcb74cd0",
   "metadata": {},
   "outputs": [],
   "source": [
    "class Model(torch.nn.Module):\n",
    "\n",
    "    def __init__(self,\n",
    "        vocab_size : int,\n",
    "        hidden_dim : int\n",
    "    ) -> None:\n",
    "        \n",
    "        super().__init__()\n",
    "\n",
    "        self.vocab_size = vocab_size\n",
    "        self.hidden_dim = hidden_dim\n",
    "\n",
    "        self.embedding = torch.nn.Embedding(num_embeddings=vocab_size,embedding_dim=hidden_dim,padding_idx=tokenizer.stoi[tokenizer.pad_token])\n",
    "\n",
    "        self.dropout = torch.nn.Dropout(p=0.35)\n",
    "\n",
    "        self.fc2 = torch.nn.Linear(in_features=hidden_dim,out_features=3)\n",
    "\n",
    "    def forward(self, x : torch.Tensor) -> torch.Tensor:\n",
    "\n",
    "        y = self.embedding(x)\n",
    "\n",
    "        y = torch.mean(y, dim=1)\n",
    "\n",
    "        y = self.dropout(y)\n",
    "\n",
    "        y = self.fc2(y)\n",
    "\n",
    "        return y"
   ]
  },
  {
   "cell_type": "markdown",
   "id": "70ee75ed",
   "metadata": {},
   "source": [
    "### Training"
   ]
  },
  {
   "cell_type": "code",
   "execution_count": 51,
   "id": "c975bf57",
   "metadata": {},
   "outputs": [],
   "source": [
    "model = Model(vocab_size=len(tokenizer.itos), hidden_dim=HIDDEN_DIM).to(DEVICE)"
   ]
  },
  {
   "cell_type": "code",
   "execution_count": 55,
   "id": "1e389165-68fb-45b4-891e-b94a8fdba121",
   "metadata": {},
   "outputs": [],
   "source": [
    "x, y = next(iter(train_loader))\n",
    "y_hat = model(x.to(DEVICE))"
   ]
  },
  {
   "cell_type": "code",
   "execution_count": 57,
   "id": "374b1f3e-563b-4460-9666-40aa6e32da0f",
   "metadata": {},
   "outputs": [
    {
     "data": {
      "text/plain": [
       "'rnn_torchviz.png'"
      ]
     },
     "execution_count": 57,
     "metadata": {},
     "output_type": "execute_result"
    }
   ],
   "source": [
    "make_dot(y_hat, params=dict(model.named_parameters())).render(\"rnn_torchviz\", format=\"png\")"
   ]
  },
  {
   "cell_type": "code",
   "execution_count": 26,
   "id": "6a935a13",
   "metadata": {},
   "outputs": [],
   "source": [
    "optimizer = Adam(model.parameters(), lr=LEARNING_RATE)\n",
    "accuracy = Accuracy(task='multiclass',num_classes=3).to(device=DEVICE)\n",
    "loss = torch.nn.CrossEntropyLoss()"
   ]
  },
  {
   "cell_type": "code",
   "execution_count": 27,
   "id": "ce612f0b",
   "metadata": {},
   "outputs": [],
   "source": [
    "trainer = Trainer() \\\n",
    "        .set_optimizer(optimizer=optimizer) \\\n",
    "        .set_loss(loss=loss) \\\n",
    "        .set_device(device=DEVICE) \\\n",
    "        .set_save_every(save_every=5) \\\n",
    "        .set_weights_folder(WEIGHTS_DIR) \\\n",
    "        .add_metric(\"accuracy\", accuracy) \\\n",
    "        .set_save_best_weights(True) \\\n",
    "        .set_score_metric(\"accuracy\")"
   ]
  },
  {
   "cell_type": "code",
   "execution_count": 28,
   "id": "be16c393",
   "metadata": {},
   "outputs": [
    {
     "name": "stderr",
     "output_type": "stream",
     "text": [
      "accuracy = 0.39416059851646423,loss = 1.084952473640442: 100%|██████████| 54/54 [00:02<00:00, 20.78it/s]\n"
     ]
    },
    {
     "name": "stdout",
     "output_type": "stream",
     "text": [
      "Epoch 1 : accuracy = 0.39488607589845304,loss = 1.0908476357106809,val_accuracy = 0.40531238783960755,val_loss = 1.0853196538012961\n",
      "\n"
     ]
    },
    {
     "name": "stderr",
     "output_type": "stream",
     "text": [
      "accuracy = 0.38686132431030273,loss = 1.077278971672058: 100%|██████████| 54/54 [00:02<00:00, 26.06it/s]\n"
     ]
    },
    {
     "name": "stdout",
     "output_type": "stream",
     "text": [
      "Epoch 2 : accuracy = 0.40639731619093156,loss = 1.0809141176718253,val_accuracy = 0.40468497379966406,val_loss = 1.0764826069707456\n",
      "\n"
     ]
    },
    {
     "name": "stderr",
     "output_type": "stream",
     "text": [
      "accuracy = 0.32846716046333313,loss = 1.086335301399231: 100%|██████████| 54/54 [00:02<00:00, 23.98it/s]\n"
     ]
    },
    {
     "name": "stdout",
     "output_type": "stream",
     "text": [
      "Epoch 3 : accuracy = 0.40893284093450616,loss = 1.0712447696261935,val_accuracy = 0.4082908500795779,val_loss = 1.0659779984018076\n",
      "\n"
     ]
    },
    {
     "name": "stderr",
     "output_type": "stream",
     "text": [
      "accuracy = 0.37956205010414124,loss = 1.0804340839385986: 100%|██████████| 54/54 [00:02<00:00, 26.45it/s]\n"
     ]
    },
    {
     "name": "stdout",
     "output_type": "stream",
     "text": [
      "Epoch 4 : accuracy = 0.423840269446373,loss = 1.0573805371920268,val_accuracy = 0.423167726267939,val_loss = 1.0502731385438338\n",
      "\n"
     ]
    },
    {
     "name": "stderr",
     "output_type": "stream",
     "text": [
      "accuracy = 0.5328466892242432,loss = 0.9918647408485413: 100%|██████████| 54/54 [00:02<00:00, 25.03it/s]\n"
     ]
    },
    {
     "name": "stdout",
     "output_type": "stream",
     "text": [
      "Epoch 5 : accuracy = 0.4532992442448934,loss = 1.0376353363196056,val_accuracy = 0.45418612982915796,val_loss = 1.0294850157654805\n",
      "\n"
     ]
    },
    {
     "name": "stderr",
     "output_type": "stream",
     "text": [
      "accuracy = 0.46715328097343445,loss = 0.9860892295837402: 100%|██████████| 54/54 [00:02<00:00, 25.64it/s]\n"
     ]
    },
    {
     "name": "stdout",
     "output_type": "stream",
     "text": [
      "Epoch 6 : accuracy = 0.5000427690921007,loss = 1.0100920928849115,val_accuracy = 0.5103895301404207,val_loss = 1.0010667287785073\n",
      "\n"
     ]
    },
    {
     "name": "stderr",
     "output_type": "stream",
     "text": [
      "accuracy = 0.7080292105674744,loss = 0.8699243068695068: 100%|██████████| 54/54 [00:02<00:00, 26.41it/s]\n"
     ]
    },
    {
     "name": "stdout",
     "output_type": "stream",
     "text": [
      "Epoch 7 : accuracy = 0.5663523927882865,loss = 0.9703315937960589,val_accuracy = 0.5696794701659161,val_loss = 0.9623113974280979\n",
      "\n"
     ]
    },
    {
     "name": "stderr",
     "output_type": "stream",
     "text": [
      "accuracy = 0.6861313581466675,loss = 0.8701242804527283: 100%|██████████| 54/54 [00:02<00:00, 24.50it/s]\n"
     ]
    },
    {
     "name": "stdout",
     "output_type": "stream",
     "text": [
      "Epoch 8 : accuracy = 0.6224428260767901,loss = 0.930045900521455,val_accuracy = 0.6181419543598009,val_loss = 0.9208283217056937\n",
      "\n"
     ]
    },
    {
     "name": "stderr",
     "output_type": "stream",
     "text": [
      "accuracy = 0.6715328693389893,loss = 0.8805627226829529: 100%|██████████| 54/54 [00:02<00:00, 25.52it/s]\n"
     ]
    },
    {
     "name": "stdout",
     "output_type": "stream",
     "text": [
      "Epoch 9 : accuracy = 0.6594988725803517,loss = 0.8855155485647696,val_accuracy = 0.6578669599864794,val_loss = 0.8800472021102905\n",
      "\n"
     ]
    },
    {
     "name": "stderr",
     "output_type": "stream",
     "text": [
      "accuracy = 0.6934306621551514,loss = 0.859902560710907: 100%|██████████| 54/54 [00:02<00:00, 26.65it/s]\n"
     ]
    },
    {
     "name": "stdout",
     "output_type": "stream",
     "text": [
      "Epoch 10 : accuracy = 0.7008476742991695,loss = 0.8431851654141037,val_accuracy = 0.6882818108019622,val_loss = 0.8439954674762228\n",
      "\n"
     ]
    },
    {
     "name": "stderr",
     "output_type": "stream",
     "text": [
      "accuracy = 0.7956204414367676,loss = 0.7213379740715027: 100%|██████████| 54/54 [00:02<00:00, 26.47it/s]\n"
     ]
    },
    {
     "name": "stdout",
     "output_type": "stream",
     "text": [
      "Epoch 11 : accuracy = 0.7180757257673476,loss = 0.7982158097955916,val_accuracy = 0.7045047490493112,val_loss = 0.8066717360330664\n",
      "\n"
     ]
    },
    {
     "name": "stderr",
     "output_type": "stream",
     "text": [
      "accuracy = 0.7445255517959595,loss = 0.7180353999137878: 100%|██████████| 54/54 [00:02<00:00, 25.66it/s]\n"
     ]
    },
    {
     "name": "stdout",
     "output_type": "stream",
     "text": [
      "Epoch 12 : accuracy = 0.7434605426258512,loss = 0.7628237914156031,val_accuracy = 0.7291900593301525,val_loss = 0.7544846560644067\n",
      "\n"
     ]
    },
    {
     "name": "stderr",
     "output_type": "stream",
     "text": [
      "accuracy = 0.7883211970329285,loss = 0.5710198283195496: 100%|██████████| 54/54 [00:01<00:00, 27.54it/s]\n"
     ]
    },
    {
     "name": "stdout",
     "output_type": "stream",
     "text": [
      "Epoch 13 : accuracy = 0.7585944897598691,loss = 0.7162920225549627,val_accuracy = 0.737721209940703,val_loss = 0.7334888940272124\n",
      "\n"
     ]
    },
    {
     "name": "stderr",
     "output_type": "stream",
     "text": [
      "accuracy = 0.8321167826652527,loss = 0.6157858371734619: 100%|██████████| 54/54 [00:02<00:00, 24.71it/s]\n"
     ]
    },
    {
     "name": "stdout",
     "output_type": "stream",
     "text": [
      "Epoch 14 : accuracy = 0.7795154728271343,loss = 0.680282367600335,val_accuracy = 0.7471633009288622,val_loss = 0.7142861511396326\n",
      "\n"
     ]
    },
    {
     "name": "stderr",
     "output_type": "stream",
     "text": [
      "accuracy = 0.8394160866737366,loss = 0.6570400595664978: 100%|██████████| 54/54 [00:02<00:00, 25.83it/s]\n"
     ]
    },
    {
     "name": "stdout",
     "output_type": "stream",
     "text": [
      "Epoch 15 : accuracy = 0.7884035386421062,loss = 0.6479054347232536,val_accuracy = 0.7572819357332976,val_loss = 0.6804705910060717\n",
      "\n"
     ]
    },
    {
     "name": "stderr",
     "output_type": "stream",
     "text": [
      "accuracy = 0.7883211970329285,loss = 0.5822402238845825: 100%|██████████| 54/54 [00:02<00:00, 24.68it/s]\n"
     ]
    },
    {
     "name": "stdout",
     "output_type": "stream",
     "text": [
      "Epoch 16 : accuracy = 0.8007675221672764,loss = 0.620698027588703,val_accuracy = 0.7609397457993549,val_loss = 0.6588172031485516\n",
      "\n"
     ]
    },
    {
     "name": "stderr",
     "output_type": "stream",
     "text": [
      "accuracy = 0.8321167826652527,loss = 0.507070004940033: 100%|██████████| 54/54 [00:02<00:00, 24.97it/s]\n"
     ]
    },
    {
     "name": "stdout",
     "output_type": "stream",
     "text": [
      "Epoch 17 : accuracy = 0.8042550561604677,loss = 0.5976862283768477,val_accuracy = 0.7682918621146161,val_loss = 0.6424110454061757\n",
      "\n"
     ]
    },
    {
     "name": "stderr",
     "output_type": "stream",
     "text": [
      "accuracy = 0.8321167826652527,loss = 0.5118419528007507: 100%|██████████| 54/54 [00:02<00:00, 25.98it/s]\n"
     ]
    },
    {
     "name": "stdout",
     "output_type": "stream",
     "text": [
      "Epoch 18 : accuracy = 0.8155397783826899,loss = 0.5804381144267542,val_accuracy = 0.7710611872051073,val_loss = 0.6199184215587118\n",
      "\n"
     ]
    },
    {
     "name": "stderr",
     "output_type": "stream",
     "text": [
      "accuracy = 0.8321167826652527,loss = 0.45157307386398315: 100%|██████████| 54/54 [00:02<00:00, 23.88it/s]\n"
     ]
    },
    {
     "name": "stdout",
     "output_type": "stream",
     "text": [
      "Epoch 19 : accuracy = 0.8263904728271343,loss = 0.554967897909659,val_accuracy = 0.7781129298002823,val_loss = 0.6101566268050153\n",
      "\n"
     ]
    },
    {
     "name": "stderr",
     "output_type": "stream",
     "text": [
      "accuracy = 0.8905109763145447,loss = 0.3671039640903473: 100%|██████████| 54/54 [00:02<00:00, 26.41it/s]\n"
     ]
    },
    {
     "name": "stdout",
     "output_type": "stream",
     "text": [
      "Epoch 20 : accuracy = 0.8297143236354545,loss = 0.5314074760233914,val_accuracy = 0.780680132948834,val_loss = 0.5948298521663832\n",
      "\n"
     ]
    },
    {
     "name": "stderr",
     "output_type": "stream",
     "text": [
      "accuracy = 0.8613138794898987,loss = 0.40935218334198: 100%|██████████| 54/54 [00:02<00:00, 26.26it/s]\n"
     ]
    },
    {
     "name": "stdout",
     "output_type": "stream",
     "text": [
      "Epoch 21 : accuracy = 0.8344543079535166,loss = 0.5085237627779996,val_accuracy = 0.7880420736644579,val_loss = 0.5774191890073859\n",
      "\n"
     ]
    },
    {
     "name": "stderr",
     "output_type": "stream",
     "text": [
      "accuracy = 0.8321167826652527,loss = 0.40407994389533997: 100%|██████████| 54/54 [00:02<00:00, 25.28it/s]\n"
     ]
    },
    {
     "name": "stdout",
     "output_type": "stream",
     "text": [
      "Epoch 22 : accuracy = 0.8411474172715787,loss = 0.49603821447602026,val_accuracy = 0.7847632377044015,val_loss = 0.5800147600795912\n",
      "\n"
     ]
    },
    {
     "name": "stderr",
     "output_type": "stream",
     "text": [
      "accuracy = 0.8394160866737366,loss = 0.4278866648674011: 100%|██████████| 54/54 [00:02<00:00, 24.96it/s]\n"
     ]
    },
    {
     "name": "stdout",
     "output_type": "stream",
     "text": [
      "Epoch 23 : accuracy = 0.8464909229013655,loss = 0.4830963451553274,val_accuracy = 0.7884828085484712,val_loss = 0.555274231278378\n",
      "\n"
     ]
    },
    {
     "name": "stderr",
     "output_type": "stream",
     "text": [
      "accuracy = 0.8394160866737366,loss = 0.3742453455924988: 100%|██████████| 54/54 [00:02<00:00, 25.51it/s]\n"
     ]
    },
    {
     "name": "stdout",
     "output_type": "stream",
     "text": [
      "Epoch 24 : accuracy = 0.8475759923458099,loss = 0.4691551035201108,val_accuracy = 0.7906485795974731,val_loss = 0.5557453852632771\n",
      "\n"
     ]
    },
    {
     "name": "stderr",
     "output_type": "stream",
     "text": [
      "accuracy = 0.8759124279022217,loss = 0.49532729387283325: 100%|██████████| 54/54 [00:02<00:00, 24.66it/s]\n"
     ]
    },
    {
     "name": "stdout",
     "output_type": "stream",
     "text": [
      "Epoch 25 : accuracy = 0.8555579847759671,loss = 0.45267782553478525,val_accuracy = 0.7918402474859486,val_loss = 0.5415026415949282\n",
      "\n"
     ]
    },
    {
     "name": "stderr",
     "output_type": "stream",
     "text": [
      "accuracy = 0.7956204414367676,loss = 0.4792080521583557: 100%|██████████| 54/54 [00:02<00:00, 24.80it/s]\n"
     ]
    },
    {
     "name": "stdout",
     "output_type": "stream",
     "text": [
      "Epoch 26 : accuracy = 0.8564582489154957,loss = 0.43104348745610976,val_accuracy = 0.7970925595449365,val_loss = 0.5364115186359572\n",
      "\n"
     ]
    },
    {
     "name": "stderr",
     "output_type": "stream",
     "text": [
      "accuracy = 0.8832116723060608,loss = 0.33038023114204407: 100%|██████████| 54/54 [00:02<00:00, 25.02it/s]\n"
     ]
    },
    {
     "name": "stdout",
     "output_type": "stream",
     "text": [
      "Epoch 27 : accuracy = 0.8623482485612234,loss = 0.4272889373479066,val_accuracy = 0.797722780186197,val_loss = 0.5268173243688501\n",
      "\n"
     ]
    },
    {
     "name": "stderr",
     "output_type": "stream",
     "text": [
      "accuracy = 0.8832116723060608,loss = 0.3907771408557892: 100%|██████████| 54/54 [00:01<00:00, 28.52it/s]\n"
     ]
    },
    {
     "name": "stdout",
     "output_type": "stream",
     "text": [
      "Epoch 28 : accuracy = 0.8643737115241863,loss = 0.4169106384118398,val_accuracy = 0.7991600788157919,val_loss = 0.5236034432183141\n",
      "\n"
     ]
    },
    {
     "name": "stderr",
     "output_type": "stream",
     "text": [
      "accuracy = 0.8759124279022217,loss = 0.3436938524246216: 100%|██████████| 54/54 [00:02<00:00, 24.40it/s]\n"
     ]
    },
    {
     "name": "stdout",
     "output_type": "stream",
     "text": [
      "Epoch 29 : accuracy = 0.8666256931093004,loss = 0.4050135021960294,val_accuracy = 0.8011981222940527,val_loss = 0.5222789567449818\n",
      "\n"
     ]
    },
    {
     "name": "stderr",
     "output_type": "stream",
     "text": [
      "accuracy = 0.8686131238937378,loss = 0.32963964343070984: 100%|██████████| 54/54 [00:02<00:00, 23.08it/s]\n"
     ]
    },
    {
     "name": "stdout",
     "output_type": "stream",
     "text": [
      "Epoch 30 : accuracy = 0.8725669097017359,loss = 0.4016078456684395,val_accuracy = 0.8039548137913579,val_loss = 0.5163057420564734\n",
      "\n"
     ]
    },
    {
     "name": "stderr",
     "output_type": "stream",
     "text": [
      "accuracy = 0.8832116723060608,loss = 0.3063540458679199: 100%|██████████| 54/54 [00:02<00:00, 24.77it/s]\n"
     ]
    },
    {
     "name": "stdout",
     "output_type": "stream",
     "text": [
      "Epoch 31 : accuracy = 0.87471804022789,loss = 0.39190942600921347,val_accuracy = 0.8043071212975875,val_loss = 0.5067881967710413\n",
      "\n"
     ]
    },
    {
     "name": "stderr",
     "output_type": "stream",
     "text": [
      "accuracy = 0.9270073175430298,loss = 0.20368435978889465: 100%|██████████| 54/54 [00:02<00:00, 25.11it/s]\n"
     ]
    },
    {
     "name": "stdout",
     "output_type": "stream",
     "text": [
      "Epoch 32 : accuracy = 0.8769758299545005,loss = 0.3843374486874651,val_accuracy = 0.8049247109371683,val_loss = 0.5042088588942653\n",
      "\n"
     ]
    },
    {
     "name": "stderr",
     "output_type": "stream",
     "text": [
      "accuracy = 0.9051094651222229,loss = 0.41328874230384827: 100%|██████████| 54/54 [00:02<00:00, 26.57it/s]\n"
     ]
    },
    {
     "name": "stdout",
     "output_type": "stream",
     "text": [
      "Epoch 33 : accuracy = 0.8788851289837448,loss = 0.3691452117981734,val_accuracy = 0.8065739533175593,val_loss = 0.5016034958155259\n",
      "\n"
     ]
    },
    {
     "name": "stderr",
     "output_type": "stream",
     "text": [
      "accuracy = 0.8832116723060608,loss = 0.31642594933509827: 100%|██████████| 54/54 [00:02<00:00, 23.05it/s]\n"
     ]
    },
    {
     "name": "stdout",
     "output_type": "stream",
     "text": [
      "Epoch 34 : accuracy = 0.8841219754130752,loss = 0.36417442670574895,val_accuracy = 0.8073220771291981,val_loss = 0.49516652070957684\n",
      "\n"
     ]
    },
    {
     "name": "stderr",
     "output_type": "stream",
     "text": [
      "accuracy = 0.8467153310775757,loss = 0.3189777433872223: 100%|██████████| 54/54 [00:02<00:00, 24.40it/s]\n"
     ]
    },
    {
     "name": "stdout",
     "output_type": "stream",
     "text": [
      "Epoch 35 : accuracy = 0.8873523672421774,loss = 0.3507979208672488,val_accuracy = 0.8064434165539949,val_loss = 0.49686991909275885\n",
      "\n"
     ]
    },
    {
     "name": "stderr",
     "output_type": "stream",
     "text": [
      "accuracy = 0.9124087691307068,loss = 0.2822886109352112: 100%|██████████| 54/54 [00:02<00:00, 26.22it/s]\n"
     ]
    },
    {
     "name": "stdout",
     "output_type": "stream",
     "text": [
      "Epoch 36 : accuracy = 0.8903050235024205,loss = 0.34970271918508744,val_accuracy = 0.8077529876128487,val_loss = 0.49073571355446527\n",
      "\n"
     ]
    },
    {
     "name": "stderr",
     "output_type": "stream",
     "text": [
      "accuracy = 0.8905109763145447,loss = 0.29617780447006226: 100%|██████████| 54/54 [00:02<00:00, 25.72it/s]\n"
     ]
    },
    {
     "name": "stdout",
     "output_type": "stream",
     "text": [
      "Epoch 37 : accuracy = 0.8928653653021212,loss = 0.341132361303877,val_accuracy = 0.8078807151835897,val_loss = 0.48794460944507434\n",
      "\n"
     ]
    },
    {
     "name": "stderr",
     "output_type": "stream",
     "text": [
      "accuracy = 0.8321167826652527,loss = 0.4263717234134674: 100%|██████████| 54/54 [00:02<00:00, 25.70it/s]\n"
     ]
    },
    {
     "name": "stdout",
     "output_type": "stream",
     "text": [
      "Epoch 38 : accuracy = 0.8931584126419492,loss = 0.33537344441369726,val_accuracy = 0.8115385252496471,val_loss = 0.48668293330980383\n",
      "\n"
     ]
    },
    {
     "name": "stderr",
     "output_type": "stream",
     "text": [
      "accuracy = 0.9051094651222229,loss = 0.23588642477989197: 100%|██████████| 54/54 [00:02<00:00, 26.63it/s]\n"
     ]
    },
    {
     "name": "stdout",
     "output_type": "stream",
     "text": [
      "Epoch 39 : accuracy = 0.8964632539837448,loss = 0.3285858719437211,val_accuracy = 0.8125477225884147,val_loss = 0.48625760622646497\n",
      "\n"
     ]
    },
    {
     "name": "stderr",
     "output_type": "stream",
     "text": [
      "accuracy = 0.8905109763145447,loss = 0.3457566201686859: 100%|██████████| 54/54 [00:02<00:00, 25.01it/s]\n"
     ]
    },
    {
     "name": "stdout",
     "output_type": "stream",
     "text": [
      "Epoch 40 : accuracy = 0.8974226569687879,loss = 0.31980979166649004,val_accuracy = 0.8102093053900677,val_loss = 0.48294979074726935\n",
      "\n"
     ]
    },
    {
     "name": "stderr",
     "output_type": "stream",
     "text": [
      "accuracy = 0.9416058659553528,loss = 0.32942357659339905: 100%|██████████| 54/54 [00:02<00:00, 24.23it/s]\n"
     ]
    },
    {
     "name": "stdout",
     "output_type": "stream",
     "text": [
      "Epoch 41 : accuracy = 0.9035048539991732,loss = 0.3082992144756847,val_accuracy = 0.8119371507478796,val_loss = 0.48079940028812573\n",
      "\n"
     ]
    },
    {
     "name": "stderr",
     "output_type": "stream",
     "text": [
      "accuracy = 0.8832116723060608,loss = 0.2828642725944519: 100%|██████████| 54/54 [00:02<00:00, 26.96it/s]\n"
     ]
    },
    {
     "name": "stdout",
     "output_type": "stream",
     "text": [
      "Epoch 42 : accuracy = 0.9045936189315937,loss = 0.30617346035109627,val_accuracy = 0.8137365812840669,val_loss = 0.4788036165030106\n",
      "\n"
     ]
    },
    {
     "name": "stderr",
     "output_type": "stream",
     "text": [
      "accuracy = 0.8832116723060608,loss = 0.29903700947761536: 100%|██████████| 54/54 [00:02<00:00, 25.77it/s]\n"
     ]
    },
    {
     "name": "stdout",
     "output_type": "stream",
     "text": [
      "Epoch 43 : accuracy = 0.9056786883760382,loss = 0.301439484236417,val_accuracy = 0.8124887710032256,val_loss = 0.47626996299494867\n",
      "\n"
     ]
    },
    {
     "name": "stderr",
     "output_type": "stream",
     "text": [
      "accuracy = 0.9270073175430298,loss = 0.1716749221086502: 100%|██████████| 54/54 [00:02<00:00, 25.59it/s]\n"
     ]
    },
    {
     "name": "stdout",
     "output_type": "stream",
     "text": [
      "Epoch 44 : accuracy = 0.9077194642137598,loss = 0.2944194423379721,val_accuracy = 0.810894269010295,val_loss = 0.47646146235258685\n",
      "\n"
     ]
    },
    {
     "name": "stderr",
     "output_type": "stream",
     "text": [
      "accuracy = 0.8540145754814148,loss = 0.3458556532859802: 100%|██████████| 54/54 [00:02<00:00, 23.63it/s]\n"
     ]
    },
    {
     "name": "stdout",
     "output_type": "stream",
     "text": [
      "Epoch 45 : accuracy = 0.9099123069533596,loss = 0.288690997770539,val_accuracy = 0.8137267568837041,val_loss = 0.47942188252573426\n",
      "\n"
     ]
    },
    {
     "name": "stderr",
     "output_type": "stream",
     "text": [
      "accuracy = 0.8978102207183838,loss = 0.2595173716545105: 100%|██████████| 54/54 [00:01<00:00, 27.03it/s]\n"
     ]
    },
    {
     "name": "stdout",
     "output_type": "stream",
     "text": [
      "Epoch 46 : accuracy = 0.9101446337170072,loss = 0.2867284193634987,val_accuracy = 0.8139064182405886,val_loss = 0.47908210365668585\n",
      "\n"
     ]
    },
    {
     "name": "stderr",
     "output_type": "stream",
     "text": [
      "accuracy = 0.8759124279022217,loss = 0.48684871196746826: 100%|██████████| 54/54 [00:02<00:00, 24.50it/s]\n"
     ]
    },
    {
     "name": "stdout",
     "output_type": "stream",
     "text": [
      "Epoch 47 : accuracy = 0.9149474523685597,loss = 0.2794001817151352,val_accuracy = 0.8140959065893422,val_loss = 0.47710546332856885\n",
      "\n"
     ]
    },
    {
     "name": "stderr",
     "output_type": "stream",
     "text": [
      "accuracy = 0.8978102207183838,loss = 0.5365931987762451: 100%|██████████| 54/54 [00:02<00:00, 24.46it/s]\n"
     ]
    },
    {
     "name": "stdout",
     "output_type": "stream",
     "text": [
      "Epoch 48 : accuracy = 0.9169444022355256,loss = 0.27726002037525177,val_accuracy = 0.8142755679462267,val_loss = 0.47672593334446783\n",
      "\n"
     ]
    },
    {
     "name": "stderr",
     "output_type": "stream",
     "text": [
      "accuracy = 0.8978102207183838,loss = 0.2973717451095581: 100%|██████████| 54/54 [00:02<00:00, 24.25it/s]\n"
     ]
    },
    {
     "name": "stdout",
     "output_type": "stream",
     "text": [
      "Epoch 49 : accuracy = 0.9177401198281182,loss = 0.26767203818868707,val_accuracy = 0.8177312586618506,val_loss = 0.4737449171750442\n",
      "\n"
     ]
    },
    {
     "name": "stderr",
     "output_type": "stream",
     "text": [
      "accuracy = 0.9489051103591919,loss = 0.20411884784698486: 100%|██████████| 54/54 [00:02<00:00, 26.20it/s]\n"
     ]
    },
    {
     "name": "stdout",
     "output_type": "stream",
     "text": [
      "Epoch 50 : accuracy = 0.9201330807473924,loss = 0.2655188264670195,val_accuracy = 0.8143541709236477,val_loss = 0.46997573842173035\n",
      "\n"
     ]
    },
    {
     "name": "stderr",
     "output_type": "stream",
     "text": [
      "accuracy = 0.956204354763031,loss = 0.172124445438385: 100%|██████████| 54/54 [00:02<00:00, 23.34it/s]\n"
     ]
    },
    {
     "name": "stdout",
     "output_type": "stream",
     "text": [
      "Epoch 51 : accuracy = 0.9190385065696858,loss = 0.26249509691088285,val_accuracy = 0.8160230646962705,val_loss = 0.4749048106048418\n",
      "\n"
     ]
    },
    {
     "name": "stderr",
     "output_type": "stream",
     "text": [
      "accuracy = 0.8905109763145447,loss = 0.26188161969184875: 100%|██████████| 54/54 [00:02<00:00, 25.90it/s]\n"
     ]
    },
    {
     "name": "stdout",
     "output_type": "stream",
     "text": [
      "Epoch 52 : accuracy = 0.9180389764132323,loss = 0.2588935591004513,val_accuracy = 0.8164637969887775,val_loss = 0.4718778988589411\n",
      "\n"
     ]
    },
    {
     "name": "stderr",
     "output_type": "stream",
     "text": [
      "accuracy = 0.8978102207183838,loss = 0.24591562151908875: 100%|██████████| 54/54 [00:02<00:00, 26.86it/s]\n"
     ]
    },
    {
     "name": "stdout",
     "output_type": "stream",
     "text": [
      "Epoch 53 : accuracy = 0.9202719485318219,loss = 0.25367291630418215,val_accuracy = 0.816284135631893,val_loss = 0.47821203910786175\n",
      "\n"
     ]
    },
    {
     "name": "stderr",
     "output_type": "stream",
     "text": [
      "accuracy = 0.8759124279022217,loss = 0.29994264245033264: 100%|██████████| 54/54 [00:02<00:00, 24.23it/s]\n"
     ]
    },
    {
     "name": "stdout",
     "output_type": "stream",
     "text": [
      "Epoch 54 : accuracy = 0.9237003458870782,loss = 0.2471242938880567,val_accuracy = 0.8176428312840669,val_loss = 0.47365414448406384\n",
      "\n"
     ]
    },
    {
     "name": "stderr",
     "output_type": "stream",
     "text": [
      "accuracy = 0.9635036587715149,loss = 0.1458822339773178: 100%|██████████| 54/54 [00:01<00:00, 27.40it/s]\n"
     ]
    },
    {
     "name": "stdout",
     "output_type": "stream",
     "text": [
      "Epoch 55 : accuracy = 0.9259011094216947,loss = 0.24631521022982067,val_accuracy = 0.8163950210032256,val_loss = 0.47438619836517004\n",
      "\n"
     ]
    },
    {
     "name": "stderr",
     "output_type": "stream",
     "text": [
      "accuracy = 0.9197080135345459,loss = 0.23369331657886505: 100%|██████████| 54/54 [00:02<00:00, 24.05it/s]\n"
     ]
    },
    {
     "name": "stdout",
     "output_type": "stream",
     "text": [
      "Epoch 56 : accuracy = 0.9264645002506398,loss = 0.23883410074092723,val_accuracy = 0.8174435185349506,val_loss = 0.47665984086368396\n",
      "\n"
     ]
    },
    {
     "name": "stderr",
     "output_type": "stream",
     "text": [
      "accuracy = 0.9197080135345459,loss = 0.18079480528831482: 100%|██████████| 54/54 [00:02<00:00, 24.10it/s]\n"
     ]
    },
    {
     "name": "stdout",
     "output_type": "stream",
     "text": [
      "Epoch 57 : accuracy = 0.9284176252506398,loss = 0.23537351963696657,val_accuracy = 0.817541770313097,val_loss = 0.4739994043889253\n",
      "\n"
     ]
    },
    {
     "name": "stderr",
     "output_type": "stream",
     "text": [
      "accuracy = 0.9197080135345459,loss = 0.18987178802490234: 100%|██████████| 54/54 [00:02<00:00, 25.07it/s]\n"
     ]
    },
    {
     "name": "stdout",
     "output_type": "stream",
     "text": [
      "Epoch 58 : accuracy = 0.9247283891395286,loss = 0.2364141927273185,val_accuracy = 0.8165157307749209,val_loss = 0.4660534353359886\n",
      "\n"
     ]
    },
    {
     "name": "stderr",
     "output_type": "stream",
     "text": [
      "accuracy = 0.956204354763031,loss = 0.1678859293460846: 100%|██████████| 54/54 [00:02<00:00, 24.78it/s]\n"
     ]
    },
    {
     "name": "stdout",
     "output_type": "stream",
     "text": [
      "Epoch 59 : accuracy = 0.9280807519400561,loss = 0.23244563269394417,val_accuracy = 0.819220491077589,val_loss = 0.4708031027213387\n",
      "\n"
     ]
    },
    {
     "name": "stderr",
     "output_type": "stream",
     "text": [
      "accuracy = 0.9197080135345459,loss = 0.17104843258857727: 100%|██████████| 54/54 [00:02<00:00, 24.62it/s]\n"
     ]
    },
    {
     "name": "stdout",
     "output_type": "stream",
     "text": [
      "Epoch 60 : accuracy = 0.931817509509899,loss = 0.23051124369656598,val_accuracy = 0.8188808171645455,val_loss = 0.471025833617086\n",
      "\n"
     ]
    },
    {
     "name": "stderr",
     "output_type": "stream",
     "text": [
      "accuracy = 0.9416058659553528,loss = 0.17717355489730835: 100%|██████████| 54/54 [00:02<00:00, 22.84it/s]\n"
     ]
    },
    {
     "name": "stdout",
     "output_type": "stream",
     "text": [
      "Epoch 61 : accuracy = 0.9327293910362102,loss = 0.22181453473038143,val_accuracy = 0.8188808171645455,val_loss = 0.479883822410003\n",
      "\n"
     ]
    },
    {
     "name": "stderr",
     "output_type": "stream",
     "text": [
      "accuracy = 0.9416058659553528,loss = 0.20560511946678162: 100%|██████████| 54/54 [00:02<00:00, 24.83it/s]\n"
     ]
    },
    {
     "name": "stdout",
     "output_type": "stream",
     "text": [
      "Epoch 62 : accuracy = 0.9342484882584324,loss = 0.21752655492336662,val_accuracy = 0.8197201749552852,val_loss = 0.4734838319861371\n",
      "\n"
     ]
    },
    {
     "name": "stderr",
     "output_type": "stream",
     "text": [
      "accuracy = 0.9416058659553528,loss = 0.2635190188884735: 100%|██████████| 54/54 [00:02<00:00, 26.25it/s]\n"
     ]
    },
    {
     "name": "stdout",
     "output_type": "stream",
     "text": [
      "Epoch 63 : accuracy = 0.9335974465917658,loss = 0.21774301940092333,val_accuracy = 0.8210100946219071,val_loss = 0.47700840753057727\n",
      "\n"
     ]
    },
    {
     "name": "stderr",
     "output_type": "stream",
     "text": [
      "accuracy = 0.9197080135345459,loss = 0.17501147091388702: 100%|██████████| 54/54 [00:02<00:00, 24.52it/s]\n"
     ]
    },
    {
     "name": "stdout",
     "output_type": "stream",
     "text": [
      "Epoch 64 : accuracy = 0.9353620696950842,loss = 0.21592061469952264,val_accuracy = 0.8188218655793563,val_loss = 0.477718323469162\n",
      "\n"
     ]
    },
    {
     "name": "stderr",
     "output_type": "stream",
     "text": [
      "accuracy = 0.9197080135345459,loss = 0.1702859252691269: 100%|██████████| 54/54 [00:02<00:00, 24.08it/s]\n"
     ]
    },
    {
     "name": "stdout",
     "output_type": "stream",
     "text": [
      "Epoch 65 : accuracy = 0.9347833659913805,loss = 0.21356314751836988,val_accuracy = 0.8210297460141389,val_loss = 0.4823781290779943\n",
      "\n"
     ]
    },
    {
     "name": "stderr",
     "output_type": "stream",
     "text": [
      "accuracy = 0.956204354763031,loss = 0.11756855249404907: 100%|██████████| 54/54 [00:02<00:00, 26.13it/s]\n"
     ]
    },
    {
     "name": "stdout",
     "output_type": "stream",
     "text": [
      "Epoch 66 : accuracy = 0.938135728791908,loss = 0.21108946949243546,val_accuracy = 0.8211083464000536,val_loss = 0.48043518221896625\n",
      "\n"
     ]
    },
    {
     "name": "stderr",
     "output_type": "stream",
     "text": [
      "accuracy = 0.9489051103591919,loss = 0.22950097918510437: 100%|██████████| 54/54 [00:02<00:00, 22.68it/s]\n"
     ]
    },
    {
     "name": "stdout",
     "output_type": "stream",
     "text": [
      "Epoch 67 : accuracy = 0.9380005575992443,loss = 0.21030909016176505,val_accuracy = 0.8199096633040387,val_loss = 0.4808262120122495\n",
      "\n"
     ]
    },
    {
     "name": "stderr",
     "output_type": "stream",
     "text": [
      "accuracy = 0.9197080135345459,loss = 0.18643945455551147: 100%|██████████| 54/54 [00:02<00:00, 22.19it/s]\n"
     ]
    },
    {
     "name": "stdout",
     "output_type": "stream",
     "text": [
      "Epoch 68 : accuracy = 0.9363024632136027,loss = 0.20539333436776092,val_accuracy = 0.8197693021401115,val_loss = 0.48689923597418744\n",
      "\n"
     ]
    },
    {
     "name": "stderr",
     "output_type": "stream",
     "text": [
      "accuracy = 0.9489051103591919,loss = 0.15529733896255493: 100%|██████████| 54/54 [00:02<00:00, 25.01it/s]\n"
     ]
    },
    {
     "name": "stdout",
     "output_type": "stream",
     "text": [
      "Epoch 69 : accuracy = 0.9410387520436887,loss = 0.19741605760322678,val_accuracy = 0.8205398839452992,val_loss = 0.4851424318292867\n",
      "\n"
     ]
    },
    {
     "name": "stderr",
     "output_type": "stream",
     "text": [
      "accuracy = 0.9197080135345459,loss = 0.2542475461959839: 100%|██████████| 54/54 [00:02<00:00, 23.46it/s]\n"
     ]
    },
    {
     "name": "stdout",
     "output_type": "stream",
     "text": [
      "Epoch 70 : accuracy = 0.9428852178432323,loss = 0.19944847388951867,val_accuracy = 0.8182800697243732,val_loss = 0.47967010477314825\n",
      "\n"
     ]
    },
    {
     "name": "stderr",
     "output_type": "stream",
     "text": [
      "accuracy = 0.970802903175354,loss = 0.13571156561374664: 100%|██████████| 54/54 [00:02<00:00, 25.31it/s]\n"
     ]
    },
    {
     "name": "stdout",
     "output_type": "stream",
     "text": [
      "Epoch 71 : accuracy = 0.9427463500588028,loss = 0.1949762475711328,val_accuracy = 0.8202100370241248,val_loss = 0.4803795425788216\n",
      "\n"
     ]
    },
    {
     "name": "stderr",
     "output_type": "stream",
     "text": [
      "accuracy = 0.985401451587677,loss = 0.09467095136642456: 100%|██████████| 54/54 [00:02<00:00, 24.79it/s]\n"
     ]
    },
    {
     "name": "stdout",
     "output_type": "stream",
     "text": [
      "Epoch 72 : accuracy = 0.94301669354792,loss = 0.19423510354978066,val_accuracy = 0.8199293146962705,val_loss = 0.49222021387970966\n",
      "\n"
     ]
    },
    {
     "name": "stderr",
     "output_type": "stream",
     "text": [
      "accuracy = 0.9416058659553528,loss = 0.1455698013305664: 100%|██████████| 54/54 [00:02<00:00, 25.03it/s]\n"
     ]
    },
    {
     "name": "stdout",
     "output_type": "stream",
     "text": [
      "Epoch 73 : accuracy = 0.9456055484436177,loss = 0.1865351333938263,val_accuracy = 0.8207195478936901,val_loss = 0.5022990742455358\n",
      "\n"
     ]
    },
    {
     "name": "stderr",
     "output_type": "stream",
     "text": [
      "accuracy = 0.9635036587715149,loss = 0.09549490362405777: 100%|██████████| 54/54 [00:02<00:00, 25.57it/s]\n"
     ]
    },
    {
     "name": "stdout",
     "output_type": "stream",
     "text": [
      "Epoch 74 : accuracy = 0.9437685862735465,loss = 0.18350263229674763,val_accuracy = 0.8188906415649082,val_loss = 0.4969716862491939\n",
      "\n"
     ]
    },
    {
     "name": "stderr",
     "output_type": "stream",
     "text": [
      "accuracy = 0.956204354763031,loss = 0.18858489394187927: 100%|██████████| 54/54 [00:02<00:00, 25.53it/s]\n"
     ]
    },
    {
     "name": "stdout",
     "output_type": "stream",
     "text": [
      "Epoch 75 : accuracy = 0.9455865389770932,loss = 0.18562350256575477,val_accuracy = 0.820628311323083,val_loss = 0.5023140272368556\n",
      "\n"
     ]
    },
    {
     "name": "stderr",
     "output_type": "stream",
     "text": [
      "accuracy = 0.9489051103591919,loss = 0.12314187735319138: 100%|██████████| 54/54 [00:02<00:00, 24.34it/s]\n"
     ]
    },
    {
     "name": "stdout",
     "output_type": "stream",
     "text": [
      "Epoch 76 : accuracy = 0.9471151409325776,loss = 0.1804520663011957,val_accuracy = 0.8171234960141389,val_loss = 0.5011552883231122\n",
      "\n"
     ]
    },
    {
     "name": "stderr",
     "output_type": "stream",
     "text": [
      "accuracy = 0.9343065619468689,loss = 0.15987125039100647: 100%|██████████| 54/54 [00:02<00:00, 21.79it/s]\n"
     ]
    },
    {
     "name": "stdout",
     "output_type": "stream",
     "text": [
      "Epoch 77 : accuracy = 0.948002204850868,loss = 0.17669885329626225,val_accuracy = 0.8166631097378938,val_loss = 0.4979986146740291\n",
      "\n"
     ]
    },
    {
     "name": "stderr",
     "output_type": "stream",
     "text": [
      "accuracy = 0.956204354763031,loss = 0.1394510269165039: 100%|██████████| 54/54 [00:02<00:00, 25.00it/s]\n"
     ]
    },
    {
     "name": "stdout",
     "output_type": "stream",
     "text": [
      "Epoch 78 : accuracy = 0.9502885065696858,loss = 0.17594660639210982,val_accuracy = 0.8176723070766615,val_loss = 0.49971721094587573\n",
      "\n"
     ]
    },
    {
     "name": "stderr",
     "output_type": "stream",
     "text": [
      "accuracy = 0.9635036587715149,loss = 0.1338679939508438: 100%|██████████| 54/54 [00:02<00:00, 26.77it/s]\n"
     ]
    },
    {
     "name": "stdout",
     "output_type": "stream",
     "text": [
      "Epoch 79 : accuracy = 0.9512917344216947,loss = 0.1758555935488807,val_accuracy = 0.8158139249552852,val_loss = 0.5083755008552385\n",
      "\n"
     ]
    },
    {
     "name": "stderr",
     "output_type": "stream",
     "text": [
      "accuracy = 0.956204354763031,loss = 0.18469782173633575: 100%|██████████| 54/54 [00:02<00:00, 25.64it/s]\n"
     ]
    },
    {
     "name": "stdout",
     "output_type": "stream",
     "text": [
      "Epoch 80 : accuracy = 0.9502885065696858,loss = 0.1713406769213853,val_accuracy = 0.817541770313097,val_loss = 0.499479898939962\n",
      "\n"
     ]
    },
    {
     "name": "stderr",
     "output_type": "stream",
     "text": [
      "accuracy = 0.9635036587715149,loss = 0.10851844400167465: 100%|██████████| 54/54 [00:02<00:00, 24.74it/s]\n"
     ]
    },
    {
     "name": "stdout",
     "output_type": "stream",
     "text": [
      "Epoch 81 : accuracy = 0.9513640723846577,loss = 0.17327095278435284,val_accuracy = 0.8195208622061688,val_loss = 0.5154586952665577\n",
      "\n"
     ]
    },
    {
     "name": "stderr",
     "output_type": "stream",
     "text": [
      "accuracy = 0.956204354763031,loss = 0.11413835734128952: 100%|██████████| 54/54 [00:01<00:00, 27.02it/s]\n"
     ]
    },
    {
     "name": "stdout",
     "output_type": "stream",
     "text": [
      "Epoch 82 : accuracy = 0.9526756593474636,loss = 0.1684519331212397,val_accuracy = 0.8188906415649082,val_loss = 0.5132189561491427\n",
      "\n"
     ]
    },
    {
     "name": "stderr",
     "output_type": "stream",
     "text": [
      "accuracy = 0.970802903175354,loss = 0.0856318399310112: 100%|██████████| 54/54 [00:02<00:00, 25.78it/s]\n"
     ]
    },
    {
     "name": "stdout",
     "output_type": "stream",
     "text": [
      "Epoch 83 : accuracy = 0.9527289889476918,loss = 0.16696388922907687,val_accuracy = 0.8197201749552852,val_loss = 0.5113817297894022\n",
      "\n"
     ]
    },
    {
     "name": "stderr",
     "output_type": "stream",
     "text": [
      "accuracy = 0.9489051103591919,loss = 0.12614548206329346: 100%|██████████| 54/54 [00:02<00:00, 25.47it/s]\n"
     ]
    },
    {
     "name": "stdout",
     "output_type": "stream",
     "text": [
      "Epoch 84 : accuracy = 0.9564467381547999,loss = 0.16397168915028926,val_accuracy = 0.8200500244679658,val_loss = 0.5192990238251893\n",
      "\n"
     ]
    },
    {
     "name": "stderr",
     "output_type": "stream",
     "text": [
      "accuracy = 0.9416058659553528,loss = 0.13918039202690125: 100%|██████████| 54/54 [00:02<00:00, 26.15it/s]\n"
     ]
    },
    {
     "name": "stdout",
     "output_type": "stream",
     "text": [
      "Epoch 85 : accuracy = 0.9532733725176917,loss = 0.16487325700344863,val_accuracy = 0.8174729943275452,val_loss = 0.5219280914120052\n",
      "\n"
     ]
    },
    {
     "name": "stderr",
     "output_type": "stream",
     "text": [
      "accuracy = 0.985401451587677,loss = 0.254607617855072: 100%|██████████| 54/54 [00:02<00:00, 24.13it/s]\n"
     ]
    },
    {
     "name": "stdout",
     "output_type": "stream",
     "text": [
      "Epoch 86 : accuracy = 0.9543737537331052,loss = 0.16208259678549236,val_accuracy = 0.8194001524344735,val_loss = 0.515816189672636\n",
      "\n"
     ]
    },
    {
     "name": "stderr",
     "output_type": "stream",
     "text": [
      "accuracy = 0.9635036587715149,loss = 0.10542859882116318: 100%|██████████| 54/54 [00:02<00:00, 24.51it/s]\n"
     ]
    },
    {
     "name": "stdout",
     "output_type": "stream",
     "text": [
      "Epoch 87 : accuracy = 0.9554873362735465,loss = 0.16015151515603065,val_accuracy = 0.8190113513366036,val_loss = 0.5179584635340649\n",
      "\n"
     ]
    },
    {
     "name": "stderr",
     "output_type": "stream",
     "text": [
      "accuracy = 0.970802903175354,loss = 0.04391397535800934: 100%|██████████| 54/54 [00:02<00:00, 23.04it/s]\n"
     ]
    },
    {
     "name": "stdout",
     "output_type": "stream",
     "text": [
      "Epoch 88 : accuracy = 0.9562735491328769,loss = 0.15392531371778911,val_accuracy = 0.8184821916663129,val_loss = 0.5334576718185259\n",
      "\n"
     ]
    },
    {
     "name": "stderr",
     "output_type": "stream",
     "text": [
      "accuracy = 0.985401451587677,loss = 0.08006913959980011: 100%|██████████| 54/54 [00:02<00:00, 24.81it/s]\n"
     ]
    },
    {
     "name": "stdout",
     "output_type": "stream",
     "text": [
      "Epoch 89 : accuracy = 0.9572672722516237,loss = 0.1560463542463603,val_accuracy = 0.8182112937388213,val_loss = 0.5213431236536606\n",
      "\n"
     ]
    },
    {
     "name": "stderr",
     "output_type": "stream",
     "text": [
      "accuracy = 0.9489051103591919,loss = 0.35923728346824646: 100%|██████████| 54/54 [00:01<00:00, 27.17it/s]\n"
     ]
    },
    {
     "name": "stdout",
     "output_type": "stream",
     "text": [
      "Epoch 90 : accuracy = 0.9555786825992443,loss = 0.152556876755423,val_accuracy = 0.8193805010422416,val_loss = 0.5459717551003331\n",
      "\n"
     ]
    },
    {
     "name": "stderr",
     "output_type": "stream",
     "text": [
      "accuracy = 0.9489051103591919,loss = 0.10945282131433487: 100%|██████████| 54/54 [00:02<00:00, 25.70it/s]\n"
     ]
    },
    {
     "name": "stdout",
     "output_type": "stream",
     "text": [
      "Epoch 91 : accuracy = 0.9565914140807258,loss = 0.1545166806490333,val_accuracy = 0.8170743688293125,val_loss = 0.533128366522167\n",
      "\n"
     ]
    },
    {
     "name": "stderr",
     "output_type": "stream",
     "text": [
      "accuracy = 0.9124087691307068,loss = 0.19016483426094055: 100%|██████████| 54/54 [00:02<00:00, 25.23it/s]\n"
     ]
    },
    {
     "name": "stdout",
     "output_type": "stream",
     "text": [
      "Epoch 92 : accuracy = 0.9560602318357538,loss = 0.15146424345396184,val_accuracy = 0.8191292545069819,val_loss = 0.5432202725306802\n",
      "\n"
     ]
    },
    {
     "name": "stderr",
     "output_type": "stream",
     "text": [
      "accuracy = 0.956204354763031,loss = 0.15015240013599396: 100%|██████████| 54/54 [00:02<00:00, 24.95it/s]\n"
     ]
    },
    {
     "name": "stdout",
     "output_type": "stream",
     "text": [
      "Epoch 93 : accuracy = 0.9584626963845005,loss = 0.14752663671970367,val_accuracy = 0.8171361270158187,val_loss = 0.5524714304053265\n",
      "\n"
     ]
    },
    {
     "name": "stderr",
     "output_type": "stream",
     "text": [
      "accuracy = 0.970802903175354,loss = 0.10347729921340942: 100%|██████████| 54/54 [00:02<00:00, 23.69it/s]\n"
     ]
    },
    {
     "name": "stdout",
     "output_type": "stream",
     "text": [
      "Epoch 94 : accuracy = 0.958081998206951,loss = 0.14512274690248347,val_accuracy = 0.8178126682405886,val_loss = 0.55006361655567\n",
      "\n"
     ]
    },
    {
     "name": "stderr",
     "output_type": "stream",
     "text": [
      "accuracy = 0.9635036587715149,loss = 0.08625319600105286: 100%|██████████| 54/54 [00:02<00:00, 24.76it/s]\n"
     ]
    },
    {
     "name": "stdout",
     "output_type": "stream",
     "text": [
      "Epoch 95 : accuracy = 0.9604786557179911,loss = 0.14470000889290263,val_accuracy = 0.8158434007478796,val_loss = 0.5492907918017843\n",
      "\n"
     ]
    },
    {
     "name": "stderr",
     "output_type": "stream",
     "text": [
      "accuracy = 0.9927007555961609,loss = 0.04292898252606392: 100%|██████████| 54/54 [00:02<00:00, 25.53it/s]\n"
     ]
    },
    {
     "name": "stdout",
     "output_type": "stream",
     "text": [
      "Epoch 96 : accuracy = 0.9596449213999289,loss = 0.1413826763767887,val_accuracy = 0.8162546598392985,val_loss = 0.556860731995624\n",
      "\n"
     ]
    },
    {
     "name": "stderr",
     "output_type": "stream",
     "text": [
      "accuracy = 0.956204354763031,loss = 0.16712720692157745: 100%|██████████| 54/54 [00:02<00:00, 25.17it/s]\n"
     ]
    },
    {
     "name": "stdout",
     "output_type": "stream",
     "text": [
      "Epoch 97 : accuracy = 0.9604881593474636,loss = 0.13965129797105436,val_accuracy = 0.8163430872170822,val_loss = 0.553068519934364\n",
      "\n"
     ]
    },
    {
     "name": "stderr",
     "output_type": "stream",
     "text": [
      "accuracy = 0.985401451587677,loss = 0.06805787980556488: 100%|██████████| 54/54 [00:02<00:00, 26.72it/s]\n"
     ]
    },
    {
     "name": "stdout",
     "output_type": "stream",
     "text": [
      "Epoch 98 : accuracy = 0.9603778046590311,loss = 0.13522393822118087,val_accuracy = 0.8148931575858075,val_loss = 0.5786981375321097\n",
      "\n"
     ]
    },
    {
     "name": "stderr",
     "output_type": "stream",
     "text": [
      "accuracy = 0.9635036587715149,loss = 0.09949842095375061: 100%|██████████| 54/54 [00:01<00:00, 28.98it/s]\n"
     ]
    },
    {
     "name": "stdout",
     "output_type": "stream",
     "text": [
      "Epoch 99 : accuracy = 0.9612020353476206,loss = 0.13821253297781502,val_accuracy = 0.8142362677532694,val_loss = 0.5522661416426949\n",
      "\n"
     ]
    },
    {
     "name": "stderr",
     "output_type": "stream",
     "text": [
      "accuracy = 0.9635036587715149,loss = 0.09873192757368088: 100%|██████████| 54/54 [00:02<00:00, 24.85it/s]\n"
     ]
    },
    {
     "name": "stdout",
     "output_type": "stream",
     "text": [
      "Epoch 100 : accuracy = 0.9637338640513243,loss = 0.1342031892940954,val_accuracy = 0.8131386430367179,val_loss = 0.5671383868093076\n",
      "\n"
     ]
    }
   ],
   "source": [
    "trainer.train(\n",
    "    model=model,\n",
    "    train_dataloader=train_loader,\n",
    "    val_dataloader=test_loader,\n",
    "    epochs=EPOCHS\n",
    ")"
   ]
  },
  {
   "cell_type": "markdown",
   "id": "4b32e8f8",
   "metadata": {},
   "source": [
    "### Save the best model and the history"
   ]
  },
  {
   "cell_type": "code",
   "execution_count": 29,
   "id": "9355d59e",
   "metadata": {},
   "outputs": [],
   "source": [
    "torch.save(trainer.best_weights, f=os.path.join(WEIGHTS_DIR, \"best_weights.pt\"))"
   ]
  },
  {
   "cell_type": "code",
   "execution_count": 30,
   "id": "11f24cab",
   "metadata": {},
   "outputs": [],
   "source": [
    "def history2df(history : dict) -> pd.DataFrame:\n",
    "    \n",
    "    dfs = []\n",
    "\n",
    "    for key in history.keys():\n",
    "        df = pd.DataFrame(history[key])\n",
    "        df[\"split\"] = [key for _ in range(len(df))]\n",
    "        dfs.append(df)\n",
    "\n",
    "    return pd.concat(dfs)    "
   ]
  },
  {
   "cell_type": "code",
   "execution_count": 31,
   "id": "42de9d2c",
   "metadata": {},
   "outputs": [],
   "source": [
    "history_df = history2df(trainer.history)"
   ]
  },
  {
   "cell_type": "code",
   "execution_count": 32,
   "id": "abb3b717",
   "metadata": {},
   "outputs": [],
   "source": [
    "history_df.to_csv(os.path.join(HISTORIES_DIR, \"history.csv\"))"
   ]
  },
  {
   "cell_type": "markdown",
   "id": "59288769",
   "metadata": {},
   "source": [
    "### Evaluation"
   ]
  },
  {
   "cell_type": "code",
   "execution_count": 33,
   "id": "04101fa3",
   "metadata": {},
   "outputs": [],
   "source": [
    "weights = torch.load(f=os.path.join(WEIGHTS_DIR, \"best_weights.pt\"))"
   ]
  },
  {
   "cell_type": "code",
   "execution_count": 34,
   "id": "e5d03975",
   "metadata": {},
   "outputs": [
    {
     "data": {
      "text/plain": [
       "<All keys matched successfully>"
      ]
     },
     "execution_count": 34,
     "metadata": {},
     "output_type": "execute_result"
    }
   ],
   "source": [
    "model = Model(vocab_size=len(tokenizer.itos), hidden_dim=HIDDEN_DIM).to(DEVICE)\n",
    "model.load_state_dict(weights)"
   ]
  },
  {
   "cell_type": "code",
   "execution_count": 35,
   "id": "67c2c5d4",
   "metadata": {},
   "outputs": [],
   "source": [
    "def evaluate(model : torch.nn.Module, data : DataLoader) -> tuple[torch.Tensor,torch.Tensor]:\n",
    "\n",
    "    model.eval()\n",
    "\n",
    "    Y_hat = []\n",
    "    Y = []\n",
    "\n",
    "    with torch.inference_mode():\n",
    "         \n",
    "        for x,y in tqdm(data):\n",
    "\n",
    "            x = x.to(DEVICE)\n",
    "            y_hat = model(x).cpu()\n",
    "            y_hat = torch.nn.functional.softmax(y_hat)\n",
    "\n",
    "            Y_hat.append(y_hat)\n",
    "            Y.append(y)\n",
    "\n",
    "    Y_hat = torch.cat(Y_hat, dim=0)\n",
    "    Y = torch.cat(Y, dim=0)\n",
    "\n",
    "    return Y_hat,Y"
   ]
  },
  {
   "cell_type": "code",
   "execution_count": 36,
   "id": "5481b977",
   "metadata": {},
   "outputs": [
    {
     "data": {
      "application/vnd.jupyter.widget-view+json": {
       "model_id": "c4a92cac57d047f4879bc95964867620",
       "version_major": 2,
       "version_minor": 0
      },
      "text/plain": [
       "  0%|          | 0/23 [00:00<?, ?it/s]"
      ]
     },
     "metadata": {},
     "output_type": "display_data"
    }
   ],
   "source": [
    "y_hat,y = evaluate(model, test_loader)\n",
    "y_hat,y = y_hat.to(DEVICE),y.to(DEVICE)"
   ]
  },
  {
   "cell_type": "code",
   "execution_count": 37,
   "id": "41b10e93",
   "metadata": {},
   "outputs": [],
   "source": [
    "metrics = {\n",
    "    \"accuracy\" : Accuracy(task='multiclass',num_classes=3).to(DEVICE),\n",
    "    \"f1_score\" : F1Score(task='multiclass',num_classes=3,average='macro').to(DEVICE),\n",
    "    \"precision\" : Precision(task='multiclass',num_classes=3,average='macro').to(DEVICE),\n",
    "    \"recall\" : Recall(task='multiclass',num_classes=3,average='macro').to(DEVICE),\n",
    "    \"auc\" : AUROC(task='multiclass',num_classes=3).to(DEVICE)\n",
    "}"
   ]
  },
  {
   "cell_type": "code",
   "execution_count": 38,
   "id": "5ab15bbb",
   "metadata": {},
   "outputs": [],
   "source": [
    "def compute_metrics(metrics : dict[str,Metric], y : torch.Tensor, y_hat : torch.Tensor) -> dict:\n",
    "\n",
    "    result = {}\n",
    "\n",
    "    for name, metric in metrics.items():\n",
    "        score = metric(y_hat, y)\n",
    "        result[name] = score.item()\n",
    "\n",
    "    return  result"
   ]
  },
  {
   "cell_type": "code",
   "execution_count": 39,
   "id": "cf90c89d",
   "metadata": {},
   "outputs": [
    {
     "data": {
      "text/plain": [
       "{'accuracy': 0.8227783441543579,\n",
       " 'f1_score': 0.8219600915908813,\n",
       " 'precision': 0.826582670211792,\n",
       " 'recall': 0.8186992406845093,\n",
       " 'auc': 0.9403228759765625}"
      ]
     },
     "execution_count": 39,
     "metadata": {},
     "output_type": "execute_result"
    }
   ],
   "source": [
    "compute_metrics(metrics,y,y_hat)"
   ]
  },
  {
   "cell_type": "markdown",
   "id": "c2fd24ff",
   "metadata": {},
   "source": [
    "### Learning graph"
   ]
  },
  {
   "cell_type": "code",
   "execution_count": 6,
   "id": "f20084cf",
   "metadata": {},
   "outputs": [],
   "source": [
    "df = pd.read_csv(os.path.join(HISTORIES_DIR, \"history.csv\"))"
   ]
  },
  {
   "cell_type": "code",
   "execution_count": 9,
   "id": "8935edd2",
   "metadata": {},
   "outputs": [
    {
     "data": {
      "text/plain": [
       "<Axes: xlabel='epoch', ylabel='loss'>"
      ]
     },
     "execution_count": 9,
     "metadata": {},
     "output_type": "execute_result"
    },
    {
     "data": {
      "image/png": "[encoded data removed]",
      "text/plain": [
       "<Figure size 640x480 with 1 Axes>"
      ]
     },
     "metadata": {},
     "output_type": "display_data"
    }
   ],
   "source": [
    "sns.lineplot(data=df,x=\"epoch\", y='loss', hue='split')"
   ]
  },
  {
   "cell_type": "code",
   "execution_count": 10,
   "id": "1f0e571e",
   "metadata": {},
   "outputs": [
    {
     "data": {
      "text/plain": [
       "<Axes: xlabel='epoch', ylabel='accuracy'>"
      ]
     },
     "execution_count": 10,
     "metadata": {},
     "output_type": "execute_result"
    },
    {
     "data": {
      "image/png": "[encoded data removed]",
      "text/plain": [
       "<Figure size 640x480 with 1 Axes>"
      ]
     },
     "metadata": {},
     "output_type": "display_data"
    }
   ],
   "source": [
    "sns.lineplot(data=df,x=\"epoch\", y='accuracy', hue='split')"
   ]
  },
  {
   "cell_type": "code",
   "execution_count": 13,
   "id": "a856d2ff",
   "metadata": {},
   "outputs": [
    {
     "data": {
      "text/plain": [
       "2.1543342065811157"
      ]
     },
     "execution_count": 13,
     "metadata": {},
     "output_type": "execute_result"
    }
   ],
   "source": [
    "df.time[df.split == 'train'].mean()"
   ]
  },
  {
   "cell_type": "code",
   "execution_count": 15,
   "id": "2703f64d",
   "metadata": {},
   "outputs": [
    {
     "data": {
      "text/plain": [
       "215.43342065811157"
      ]
     },
     "execution_count": 15,
     "metadata": {},
     "output_type": "execute_result"
    }
   ],
   "source": [
    "df.time[df.split == 'train'].sum()"
   ]
  },
  {
   "cell_type": "code",
   "execution_count": 16,
   "id": "406e9225",
   "metadata": {},
   "outputs": [
    {
     "data": {
      "text/plain": [
       "90.29866194725037"
      ]
     },
     "execution_count": 16,
     "metadata": {},
     "output_type": "execute_result"
    }
   ],
   "source": [
    "df.time[df.split == 'val'].sum()"
   ]
  },
  {
   "cell_type": "code",
   "execution_count": 14,
   "id": "f146de84",
   "metadata": {},
   "outputs": [
    {
     "data": {
      "text/plain": [
       "0.9029866194725037"
      ]
     },
     "execution_count": 14,
     "metadata": {},
     "output_type": "execute_result"
    }
   ],
   "source": [
    "df.time[df.split == 'val'].mean()"
   ]
  }
 ],
 "metadata": {
  "kernelspec": {
   "display_name": "Python 3 (ipykernel)",
   "language": "python",
   "name": "python3"
  },
  "language_info": {
   "codemirror_mode": {
    "name": "ipython",
    "version": 3
   },
   "file_extension": ".py",
   "mimetype": "text/x-python",
   "name": "python",
   "nbconvert_exporter": "python",
   "pygments_lexer": "ipython3",
   "version": "3.12.2"
  }
 },
 "nbformat": 4,
 "nbformat_minor": 5
}
